{
 "cells": [
  {
   "cell_type": "code",
   "execution_count": 266,
   "id": "b8466ce4",
   "metadata": {},
   "outputs": [],
   "source": [
    "\n",
    "import pandas as pd\n",
    "import numpy as np\n",
    "import matplotlib as plt\n",
    "import seaborn as sns\n",
    "\n",
    "#Importing the ML library \n",
    "import tensorflow as tf\n",
    "from tensorflow.keras.models import Sequential\n",
    "from tensorflow.keras.layers import Dense, Activation"
   ]
  },
  {
   "cell_type": "code",
   "execution_count": 267,
   "id": "82542897",
   "metadata": {},
   "outputs": [],
   "source": [
    "###PART ONE "
   ]
  },
  {
   "cell_type": "code",
   "execution_count": 268,
   "id": "1d19feeb",
   "metadata": {},
   "outputs": [
    {
     "data": {
      "text/html": [
       "<div>\n",
       "<style scoped>\n",
       "    .dataframe tbody tr th:only-of-type {\n",
       "        vertical-align: middle;\n",
       "    }\n",
       "\n",
       "    .dataframe tbody tr th {\n",
       "        vertical-align: top;\n",
       "    }\n",
       "\n",
       "    .dataframe thead th {\n",
       "        text-align: right;\n",
       "    }\n",
       "</style>\n",
       "<table border=\"1\" class=\"dataframe\">\n",
       "  <thead>\n",
       "    <tr style=\"text-align: right;\">\n",
       "      <th></th>\n",
       "      <th>id</th>\n",
       "      <th>timestamp</th>\n",
       "      <th>value</th>\n",
       "      <th>identifier</th>\n",
       "      <th>value_type_id</th>\n",
       "      <th>location_id</th>\n",
       "      <th>source_id</th>\n",
       "    </tr>\n",
       "  </thead>\n",
       "  <tbody>\n",
       "    <tr>\n",
       "      <th>0</th>\n",
       "      <td>427436</td>\n",
       "      <td>2019-04-25 13:20:09</td>\n",
       "      <td>1021.80</td>\n",
       "      <td>PMSL</td>\n",
       "      <td>20</td>\n",
       "      <td>23.0</td>\n",
       "      <td>5</td>\n",
       "    </tr>\n",
       "    <tr>\n",
       "      <th>1</th>\n",
       "      <td>427439</td>\n",
       "      <td>2019-04-25 13:20:09</td>\n",
       "      <td>12.00</td>\n",
       "      <td>TDP</td>\n",
       "      <td>15</td>\n",
       "      <td>23.0</td>\n",
       "      <td>5</td>\n",
       "    </tr>\n",
       "    <tr>\n",
       "      <th>2</th>\n",
       "      <td>427434</td>\n",
       "      <td>2019-04-25 13:20:09</td>\n",
       "      <td>0.00</td>\n",
       "      <td>P6H</td>\n",
       "      <td>13</td>\n",
       "      <td>23.0</td>\n",
       "      <td>5</td>\n",
       "    </tr>\n",
       "    <tr>\n",
       "      <th>3</th>\n",
       "      <td>427435</td>\n",
       "      <td>2019-04-25 13:20:09</td>\n",
       "      <td>0.51</td>\n",
       "      <td>P24H</td>\n",
       "      <td>14</td>\n",
       "      <td>23.0</td>\n",
       "      <td>5</td>\n",
       "    </tr>\n",
       "    <tr>\n",
       "      <th>4</th>\n",
       "      <td>427440</td>\n",
       "      <td>2019-04-25 13:20:09</td>\n",
       "      <td>3.00</td>\n",
       "      <td>UVI</td>\n",
       "      <td>16</td>\n",
       "      <td>23.0</td>\n",
       "      <td>5</td>\n",
       "    </tr>\n",
       "  </tbody>\n",
       "</table>\n",
       "</div>"
      ],
      "text/plain": [
       "       id            timestamp    value identifier  value_type_id  \\\n",
       "0  427436  2019-04-25 13:20:09  1021.80       PMSL             20   \n",
       "1  427439  2019-04-25 13:20:09    12.00        TDP             15   \n",
       "2  427434  2019-04-25 13:20:09     0.00        P6H             13   \n",
       "3  427435  2019-04-25 13:20:09     0.51       P24H             14   \n",
       "4  427440  2019-04-25 13:20:09     3.00        UVI             16   \n",
       "\n",
       "   location_id  source_id  \n",
       "0         23.0          5  \n",
       "1         23.0          5  \n",
       "2         23.0          5  \n",
       "3         23.0          5  \n",
       "4         23.0          5  "
      ]
     },
     "execution_count": 268,
     "metadata": {},
     "output_type": "execute_result"
    }
   ],
   "source": [
    "#import the file\n",
    "df=pd.read_csv('wheather_data.csv')\n",
    "\n",
    "df.head()"
   ]
  },
  {
   "cell_type": "code",
   "execution_count": 269,
   "id": "2c7b2ea1",
   "metadata": {
    "scrolled": true
   },
   "outputs": [],
   "source": [
    "k=df[['id','value','value_type_id','location_id','source_id']].describe()"
   ]
  },
  {
   "cell_type": "code",
   "execution_count": 270,
   "id": "a84a2fdd",
   "metadata": {},
   "outputs": [
    {
     "data": {
      "text/html": [
       "<div>\n",
       "<style scoped>\n",
       "    .dataframe tbody tr th:only-of-type {\n",
       "        vertical-align: middle;\n",
       "    }\n",
       "\n",
       "    .dataframe tbody tr th {\n",
       "        vertical-align: top;\n",
       "    }\n",
       "\n",
       "    .dataframe thead th {\n",
       "        text-align: right;\n",
       "    }\n",
       "</style>\n",
       "<table border=\"1\" class=\"dataframe\">\n",
       "  <thead>\n",
       "    <tr style=\"text-align: right;\">\n",
       "      <th></th>\n",
       "      <th>id</th>\n",
       "      <th>value</th>\n",
       "      <th>value_type_id</th>\n",
       "      <th>location_id</th>\n",
       "      <th>source_id</th>\n",
       "    </tr>\n",
       "  </thead>\n",
       "  <tbody>\n",
       "    <tr>\n",
       "      <th>mean</th>\n",
       "      <td>4.678257e+06</td>\n",
       "      <td>153.45302</td>\n",
       "      <td>35.833573</td>\n",
       "      <td>38.873038</td>\n",
       "      <td>5.744032</td>\n",
       "    </tr>\n",
       "  </tbody>\n",
       "</table>\n",
       "</div>"
      ],
      "text/plain": [
       "                id      value  value_type_id  location_id  source_id\n",
       "mean  4.678257e+06  153.45302      35.833573    38.873038   5.744032"
      ]
     },
     "execution_count": 270,
     "metadata": {},
     "output_type": "execute_result"
    }
   ],
   "source": [
    "# The mean value of each numerical column \n",
    "k.loc[['mean']]"
   ]
  },
  {
   "cell_type": "code",
   "execution_count": 271,
   "id": "8979b59f",
   "metadata": {},
   "outputs": [
    {
     "data": {
      "text/html": [
       "<div>\n",
       "<style scoped>\n",
       "    .dataframe tbody tr th:only-of-type {\n",
       "        vertical-align: middle;\n",
       "    }\n",
       "\n",
       "    .dataframe tbody tr th {\n",
       "        vertical-align: top;\n",
       "    }\n",
       "\n",
       "    .dataframe thead th {\n",
       "        text-align: right;\n",
       "    }\n",
       "</style>\n",
       "<table border=\"1\" class=\"dataframe\">\n",
       "  <thead>\n",
       "    <tr style=\"text-align: right;\">\n",
       "      <th></th>\n",
       "      <th>id</th>\n",
       "      <th>value</th>\n",
       "      <th>value_type_id</th>\n",
       "      <th>location_id</th>\n",
       "      <th>source_id</th>\n",
       "    </tr>\n",
       "  </thead>\n",
       "  <tbody>\n",
       "    <tr>\n",
       "      <th>min</th>\n",
       "      <td>427433.0</td>\n",
       "      <td>-0.019</td>\n",
       "      <td>11.0</td>\n",
       "      <td>23.0</td>\n",
       "      <td>5.0</td>\n",
       "    </tr>\n",
       "  </tbody>\n",
       "</table>\n",
       "</div>"
      ],
      "text/plain": [
       "           id  value  value_type_id  location_id  source_id\n",
       "min  427433.0 -0.019           11.0         23.0        5.0"
      ]
     },
     "execution_count": 271,
     "metadata": {},
     "output_type": "execute_result"
    }
   ],
   "source": [
    "# The minimum value of each numerical column \n",
    "k.loc[['min']]"
   ]
  },
  {
   "cell_type": "code",
   "execution_count": 272,
   "id": "16c0b672",
   "metadata": {},
   "outputs": [
    {
     "data": {
      "text/html": [
       "<div>\n",
       "<style scoped>\n",
       "    .dataframe tbody tr th:only-of-type {\n",
       "        vertical-align: middle;\n",
       "    }\n",
       "\n",
       "    .dataframe tbody tr th {\n",
       "        vertical-align: top;\n",
       "    }\n",
       "\n",
       "    .dataframe thead th {\n",
       "        text-align: right;\n",
       "    }\n",
       "</style>\n",
       "<table border=\"1\" class=\"dataframe\">\n",
       "  <thead>\n",
       "    <tr style=\"text-align: right;\">\n",
       "      <th></th>\n",
       "      <th>id</th>\n",
       "      <th>value</th>\n",
       "      <th>value_type_id</th>\n",
       "      <th>location_id</th>\n",
       "      <th>source_id</th>\n",
       "    </tr>\n",
       "  </thead>\n",
       "  <tbody>\n",
       "    <tr>\n",
       "      <th>max</th>\n",
       "      <td>6426617.0</td>\n",
       "      <td>1021.9</td>\n",
       "      <td>66.0</td>\n",
       "      <td>152.0</td>\n",
       "      <td>10.0</td>\n",
       "    </tr>\n",
       "  </tbody>\n",
       "</table>\n",
       "</div>"
      ],
      "text/plain": [
       "            id   value  value_type_id  location_id  source_id\n",
       "max  6426617.0  1021.9           66.0        152.0       10.0"
      ]
     },
     "execution_count": 272,
     "metadata": {},
     "output_type": "execute_result"
    }
   ],
   "source": [
    "# The maximum value of each numerical column \n",
    "k.loc[['max']]"
   ]
  },
  {
   "cell_type": "code",
   "execution_count": 273,
   "id": "8984858a",
   "metadata": {},
   "outputs": [
    {
     "name": "stdout",
     "output_type": "stream",
     "text": [
      "The unique identifiers: ['PMSL' 'TDP' 'P6H' 'P24H' 'UVI' 'WD' 'T' 'P1H' 'WS' 'RH' 'CC' 'P3H' 'SM0'\n",
      " 'SM30' 'SM100' 'ST0' 'PC' 'P' 'ETref' 'ETmodel' 'ST100' 'ST30' 'ST10'\n",
      " 'pressureMeanSeaLevel'] and the length of the array: 24\n"
     ]
    }
   ],
   "source": [
    "# The unique values of the categorical data: here the 'identifier' the 'location_id', the 'source_id' and the 'value_type_id'\n",
    "print('The unique identifiers:',df['identifier'].unique(),'and the length of the array:',len(df['identifier'].unique()))\n"
   ]
  },
  {
   "cell_type": "code",
   "execution_count": 274,
   "id": "1f99ca8c",
   "metadata": {},
   "outputs": [
    {
     "name": "stdout",
     "output_type": "stream",
     "text": [
      "The unique location-ids: [ 23.  27.  30. 116. 152.] and the length of the array: 5\n"
     ]
    }
   ],
   "source": [
    "print('The unique location-ids:',df['location_id'].unique(),'and the length of the array:',len(df['location_id'].unique()))\n"
   ]
  },
  {
   "cell_type": "code",
   "execution_count": 275,
   "id": "20c25295",
   "metadata": {},
   "outputs": [
    {
     "name": "stdout",
     "output_type": "stream",
     "text": [
      "The unique source_id: [ 5  6 10] and the length of the array: 3\n"
     ]
    }
   ],
   "source": [
    "print('The unique source_id:',df['source_id'].unique(),'and the length of the array:',len(df['source_id'].unique()))\n"
   ]
  },
  {
   "cell_type": "code",
   "execution_count": 276,
   "id": "3a386f1a",
   "metadata": {},
   "outputs": [
    {
     "name": "stdout",
     "output_type": "stream",
     "text": [
      "The unique value_type_id: [20 15 13 14 16 17 11 12 18 19 27 21 24 23 26 25 22 28 29 30 35 36 55 41\n",
      " 43 39 42 40 38 37 45 49 50 48 46 47 51 58 62 59 65 60 61 64 63 66 57] and the length of the array: 47\n"
     ]
    }
   ],
   "source": [
    "print('The unique value_type_id:',df['value_type_id'].unique(),'and the length of the array:',len(df['value_type_id'].unique()))\n"
   ]
  },
  {
   "cell_type": "code",
   "execution_count": 277,
   "id": "2220c5f9",
   "metadata": {},
   "outputs": [
    {
     "name": "stdout",
     "output_type": "stream",
     "text": [
      "T                       47790\n",
      "RH                      47789\n",
      "PMSL                    47767\n",
      "WS                      47742\n",
      "WD                      47311\n",
      "UVI                     40979\n",
      "PC                      30540\n",
      "P                       25308\n",
      "TDP                     15676\n",
      "P1H                     15675\n",
      "CC                      11988\n",
      "P6H                     10444\n",
      "P24H                    10443\n",
      "SM0                      1027\n",
      "ST0                      1024\n",
      "SM100                     815\n",
      "SM30                      815\n",
      "ETref                     813\n",
      "ETmodel                   813\n",
      "ST100                     812\n",
      "ST30                      812\n",
      "ST10                      209\n",
      "P3H                       106\n",
      "pressureMeanSeaLevel       21\n",
      "Name: identifier, dtype: int64\n"
     ]
    }
   ],
   "source": [
    "#The frequency that each identifier appers in the dataset\n",
    "df1 = df['identifier'].value_counts()\n",
    "#The frequency that each value_type_id appers in the dataset\n",
    "df11 = df['value_type_id'].value_counts()\n",
    "#The frequency that each source_id appers in the dataset\n",
    "df12 = df['source_id'].value_counts()\n",
    "#The frequency that each location_id appers in the dataset\n",
    "df13 = df['location_id'].value_counts()\n",
    "print(df1)\n",
    "#print(df11)\n",
    "#print(df12)\n",
    "#print(df13)"
   ]
  },
  {
   "cell_type": "code",
   "execution_count": 278,
   "id": "7a30ef4d",
   "metadata": {},
   "outputs": [],
   "source": [
    "#Another way to find how frequently a catecorical data appears is to group the dataset by the exact parameter"
   ]
  },
  {
   "cell_type": "code",
   "execution_count": 279,
   "id": "03b5b234",
   "metadata": {},
   "outputs": [
    {
     "data": {
      "text/html": [
       "<div>\n",
       "<style scoped>\n",
       "    .dataframe tbody tr th:only-of-type {\n",
       "        vertical-align: middle;\n",
       "    }\n",
       "\n",
       "    .dataframe tbody tr th {\n",
       "        vertical-align: top;\n",
       "    }\n",
       "\n",
       "    .dataframe thead th {\n",
       "        text-align: right;\n",
       "    }\n",
       "</style>\n",
       "<table border=\"1\" class=\"dataframe\">\n",
       "  <thead>\n",
       "    <tr style=\"text-align: right;\">\n",
       "      <th></th>\n",
       "      <th>id</th>\n",
       "      <th>timestamp</th>\n",
       "      <th>value</th>\n",
       "      <th>value_type_id</th>\n",
       "      <th>location_id</th>\n",
       "      <th>source_id</th>\n",
       "    </tr>\n",
       "    <tr>\n",
       "      <th>identifier</th>\n",
       "      <th></th>\n",
       "      <th></th>\n",
       "      <th></th>\n",
       "      <th></th>\n",
       "      <th></th>\n",
       "      <th></th>\n",
       "    </tr>\n",
       "  </thead>\n",
       "  <tbody>\n",
       "    <tr>\n",
       "      <th>CC</th>\n",
       "      <td>11988</td>\n",
       "      <td>11988</td>\n",
       "      <td>11988</td>\n",
       "      <td>11988</td>\n",
       "      <td>11988</td>\n",
       "      <td>11988</td>\n",
       "    </tr>\n",
       "    <tr>\n",
       "      <th>ETmodel</th>\n",
       "      <td>813</td>\n",
       "      <td>813</td>\n",
       "      <td>813</td>\n",
       "      <td>813</td>\n",
       "      <td>813</td>\n",
       "      <td>813</td>\n",
       "    </tr>\n",
       "    <tr>\n",
       "      <th>ETref</th>\n",
       "      <td>813</td>\n",
       "      <td>813</td>\n",
       "      <td>813</td>\n",
       "      <td>813</td>\n",
       "      <td>813</td>\n",
       "      <td>813</td>\n",
       "    </tr>\n",
       "    <tr>\n",
       "      <th>P</th>\n",
       "      <td>25308</td>\n",
       "      <td>25308</td>\n",
       "      <td>25308</td>\n",
       "      <td>25308</td>\n",
       "      <td>25308</td>\n",
       "      <td>25308</td>\n",
       "    </tr>\n",
       "    <tr>\n",
       "      <th>P1H</th>\n",
       "      <td>15675</td>\n",
       "      <td>15675</td>\n",
       "      <td>15675</td>\n",
       "      <td>15675</td>\n",
       "      <td>15675</td>\n",
       "      <td>15675</td>\n",
       "    </tr>\n",
       "    <tr>\n",
       "      <th>P24H</th>\n",
       "      <td>10443</td>\n",
       "      <td>10443</td>\n",
       "      <td>10443</td>\n",
       "      <td>10443</td>\n",
       "      <td>10443</td>\n",
       "      <td>10443</td>\n",
       "    </tr>\n",
       "    <tr>\n",
       "      <th>P3H</th>\n",
       "      <td>106</td>\n",
       "      <td>106</td>\n",
       "      <td>106</td>\n",
       "      <td>106</td>\n",
       "      <td>106</td>\n",
       "      <td>106</td>\n",
       "    </tr>\n",
       "    <tr>\n",
       "      <th>P6H</th>\n",
       "      <td>10444</td>\n",
       "      <td>10444</td>\n",
       "      <td>10444</td>\n",
       "      <td>10444</td>\n",
       "      <td>10444</td>\n",
       "      <td>10444</td>\n",
       "    </tr>\n",
       "    <tr>\n",
       "      <th>PC</th>\n",
       "      <td>30540</td>\n",
       "      <td>30540</td>\n",
       "      <td>30540</td>\n",
       "      <td>30540</td>\n",
       "      <td>30540</td>\n",
       "      <td>30540</td>\n",
       "    </tr>\n",
       "    <tr>\n",
       "      <th>PMSL</th>\n",
       "      <td>47767</td>\n",
       "      <td>47767</td>\n",
       "      <td>47767</td>\n",
       "      <td>47767</td>\n",
       "      <td>47767</td>\n",
       "      <td>47767</td>\n",
       "    </tr>\n",
       "    <tr>\n",
       "      <th>RH</th>\n",
       "      <td>47789</td>\n",
       "      <td>47789</td>\n",
       "      <td>47789</td>\n",
       "      <td>47789</td>\n",
       "      <td>47789</td>\n",
       "      <td>47789</td>\n",
       "    </tr>\n",
       "    <tr>\n",
       "      <th>SM0</th>\n",
       "      <td>1027</td>\n",
       "      <td>1027</td>\n",
       "      <td>1027</td>\n",
       "      <td>1027</td>\n",
       "      <td>1027</td>\n",
       "      <td>1027</td>\n",
       "    </tr>\n",
       "    <tr>\n",
       "      <th>SM100</th>\n",
       "      <td>815</td>\n",
       "      <td>815</td>\n",
       "      <td>815</td>\n",
       "      <td>815</td>\n",
       "      <td>815</td>\n",
       "      <td>815</td>\n",
       "    </tr>\n",
       "    <tr>\n",
       "      <th>SM30</th>\n",
       "      <td>815</td>\n",
       "      <td>815</td>\n",
       "      <td>815</td>\n",
       "      <td>815</td>\n",
       "      <td>815</td>\n",
       "      <td>815</td>\n",
       "    </tr>\n",
       "    <tr>\n",
       "      <th>ST0</th>\n",
       "      <td>1024</td>\n",
       "      <td>1024</td>\n",
       "      <td>1024</td>\n",
       "      <td>1024</td>\n",
       "      <td>1024</td>\n",
       "      <td>1024</td>\n",
       "    </tr>\n",
       "    <tr>\n",
       "      <th>ST10</th>\n",
       "      <td>209</td>\n",
       "      <td>209</td>\n",
       "      <td>209</td>\n",
       "      <td>209</td>\n",
       "      <td>209</td>\n",
       "      <td>209</td>\n",
       "    </tr>\n",
       "    <tr>\n",
       "      <th>ST100</th>\n",
       "      <td>812</td>\n",
       "      <td>812</td>\n",
       "      <td>812</td>\n",
       "      <td>812</td>\n",
       "      <td>812</td>\n",
       "      <td>812</td>\n",
       "    </tr>\n",
       "    <tr>\n",
       "      <th>ST30</th>\n",
       "      <td>812</td>\n",
       "      <td>812</td>\n",
       "      <td>812</td>\n",
       "      <td>812</td>\n",
       "      <td>812</td>\n",
       "      <td>812</td>\n",
       "    </tr>\n",
       "    <tr>\n",
       "      <th>T</th>\n",
       "      <td>47790</td>\n",
       "      <td>47790</td>\n",
       "      <td>47790</td>\n",
       "      <td>47790</td>\n",
       "      <td>47790</td>\n",
       "      <td>47790</td>\n",
       "    </tr>\n",
       "    <tr>\n",
       "      <th>TDP</th>\n",
       "      <td>15676</td>\n",
       "      <td>15676</td>\n",
       "      <td>15676</td>\n",
       "      <td>15676</td>\n",
       "      <td>15676</td>\n",
       "      <td>15676</td>\n",
       "    </tr>\n",
       "    <tr>\n",
       "      <th>UVI</th>\n",
       "      <td>40979</td>\n",
       "      <td>40979</td>\n",
       "      <td>40979</td>\n",
       "      <td>40979</td>\n",
       "      <td>40979</td>\n",
       "      <td>40979</td>\n",
       "    </tr>\n",
       "    <tr>\n",
       "      <th>WD</th>\n",
       "      <td>47311</td>\n",
       "      <td>47311</td>\n",
       "      <td>47311</td>\n",
       "      <td>47311</td>\n",
       "      <td>47311</td>\n",
       "      <td>47311</td>\n",
       "    </tr>\n",
       "    <tr>\n",
       "      <th>WS</th>\n",
       "      <td>47742</td>\n",
       "      <td>47742</td>\n",
       "      <td>47742</td>\n",
       "      <td>47742</td>\n",
       "      <td>47742</td>\n",
       "      <td>47742</td>\n",
       "    </tr>\n",
       "    <tr>\n",
       "      <th>pressureMeanSeaLevel</th>\n",
       "      <td>21</td>\n",
       "      <td>21</td>\n",
       "      <td>21</td>\n",
       "      <td>21</td>\n",
       "      <td>21</td>\n",
       "      <td>21</td>\n",
       "    </tr>\n",
       "  </tbody>\n",
       "</table>\n",
       "</div>"
      ],
      "text/plain": [
       "                         id  timestamp  value  value_type_id  location_id  \\\n",
       "identifier                                                                  \n",
       "CC                    11988      11988  11988          11988        11988   \n",
       "ETmodel                 813        813    813            813          813   \n",
       "ETref                   813        813    813            813          813   \n",
       "P                     25308      25308  25308          25308        25308   \n",
       "P1H                   15675      15675  15675          15675        15675   \n",
       "P24H                  10443      10443  10443          10443        10443   \n",
       "P3H                     106        106    106            106          106   \n",
       "P6H                   10444      10444  10444          10444        10444   \n",
       "PC                    30540      30540  30540          30540        30540   \n",
       "PMSL                  47767      47767  47767          47767        47767   \n",
       "RH                    47789      47789  47789          47789        47789   \n",
       "SM0                    1027       1027   1027           1027         1027   \n",
       "SM100                   815        815    815            815          815   \n",
       "SM30                    815        815    815            815          815   \n",
       "ST0                    1024       1024   1024           1024         1024   \n",
       "ST10                    209        209    209            209          209   \n",
       "ST100                   812        812    812            812          812   \n",
       "ST30                    812        812    812            812          812   \n",
       "T                     47790      47790  47790          47790        47790   \n",
       "TDP                   15676      15676  15676          15676        15676   \n",
       "UVI                   40979      40979  40979          40979        40979   \n",
       "WD                    47311      47311  47311          47311        47311   \n",
       "WS                    47742      47742  47742          47742        47742   \n",
       "pressureMeanSeaLevel     21         21     21             21           21   \n",
       "\n",
       "                      source_id  \n",
       "identifier                       \n",
       "CC                        11988  \n",
       "ETmodel                     813  \n",
       "ETref                       813  \n",
       "P                         25308  \n",
       "P1H                       15675  \n",
       "P24H                      10443  \n",
       "P3H                         106  \n",
       "P6H                       10444  \n",
       "PC                        30540  \n",
       "PMSL                      47767  \n",
       "RH                        47789  \n",
       "SM0                        1027  \n",
       "SM100                       815  \n",
       "SM30                        815  \n",
       "ST0                        1024  \n",
       "ST10                        209  \n",
       "ST100                       812  \n",
       "ST30                        812  \n",
       "T                         47790  \n",
       "TDP                       15676  \n",
       "UVI                       40979  \n",
       "WD                        47311  \n",
       "WS                        47742  \n",
       "pressureMeanSeaLevel         21  "
      ]
     },
     "execution_count": 279,
     "metadata": {},
     "output_type": "execute_result"
    }
   ],
   "source": [
    "#Here I group the dataset by identifier\n",
    "df.groupby(by=[\"identifier\"]).count()"
   ]
  },
  {
   "cell_type": "code",
   "execution_count": 280,
   "id": "cd126a96",
   "metadata": {},
   "outputs": [],
   "source": [
    "#In what follows I take the categorical columns and convert them to numerical values."
   ]
  },
  {
   "cell_type": "code",
   "execution_count": 281,
   "id": "a4c8c5aa",
   "metadata": {},
   "outputs": [
    {
     "data": {
      "text/plain": [
       "(array([ 9, 19,  7, ...,  9, 22, 21]),\n",
       " array([0, 0, 0, ..., 3, 3, 2], dtype=int64),\n",
       " array([0, 0, 0, ..., 0, 0, 0], dtype=int64),\n",
       " array([ 9,  4,  2, ..., 36,  7,  6], dtype=int64))"
      ]
     },
     "execution_count": 281,
     "metadata": {},
     "output_type": "execute_result"
    }
   ],
   "source": [
    "from sklearn.preprocessing import LabelEncoder\n",
    " \n",
    "# Creating a instance of label Encoder.\n",
    "le = LabelEncoder()\n",
    "\n",
    "# Using .fit_transform function to fit label\n",
    "# encoder and return encoded label\n",
    "label1 = le.fit_transform(df['identifier'])\n",
    "label2 = le.fit_transform(df['location_id'])\n",
    "label3 = le.fit_transform(df['source_id'])\n",
    "label4 = le.fit_transform(df['value_type_id'])\n",
    "# printing label\n",
    "label1,label2,label3,label4"
   ]
  },
  {
   "cell_type": "code",
   "execution_count": 282,
   "id": "c8ea5bb4",
   "metadata": {},
   "outputs": [
    {
     "data": {
      "text/html": [
       "<div>\n",
       "<style scoped>\n",
       "    .dataframe tbody tr th:only-of-type {\n",
       "        vertical-align: middle;\n",
       "    }\n",
       "\n",
       "    .dataframe tbody tr th {\n",
       "        vertical-align: top;\n",
       "    }\n",
       "\n",
       "    .dataframe thead th {\n",
       "        text-align: right;\n",
       "    }\n",
       "</style>\n",
       "<table border=\"1\" class=\"dataframe\">\n",
       "  <thead>\n",
       "    <tr style=\"text-align: right;\">\n",
       "      <th></th>\n",
       "      <th>id</th>\n",
       "      <th>timestamp</th>\n",
       "      <th>value</th>\n",
       "      <th>identifier</th>\n",
       "      <th>location_id</th>\n",
       "      <th>source_id</th>\n",
       "      <th>value_type_id</th>\n",
       "    </tr>\n",
       "  </thead>\n",
       "  <tbody>\n",
       "    <tr>\n",
       "      <th>0</th>\n",
       "      <td>427436</td>\n",
       "      <td>2019-04-25 13:20:09</td>\n",
       "      <td>1021.80</td>\n",
       "      <td>9</td>\n",
       "      <td>0</td>\n",
       "      <td>0</td>\n",
       "      <td>9</td>\n",
       "    </tr>\n",
       "    <tr>\n",
       "      <th>1</th>\n",
       "      <td>427439</td>\n",
       "      <td>2019-04-25 13:20:09</td>\n",
       "      <td>12.00</td>\n",
       "      <td>19</td>\n",
       "      <td>0</td>\n",
       "      <td>0</td>\n",
       "      <td>4</td>\n",
       "    </tr>\n",
       "    <tr>\n",
       "      <th>2</th>\n",
       "      <td>427434</td>\n",
       "      <td>2019-04-25 13:20:09</td>\n",
       "      <td>0.00</td>\n",
       "      <td>7</td>\n",
       "      <td>0</td>\n",
       "      <td>0</td>\n",
       "      <td>2</td>\n",
       "    </tr>\n",
       "    <tr>\n",
       "      <th>3</th>\n",
       "      <td>427435</td>\n",
       "      <td>2019-04-25 13:20:09</td>\n",
       "      <td>0.51</td>\n",
       "      <td>5</td>\n",
       "      <td>0</td>\n",
       "      <td>0</td>\n",
       "      <td>3</td>\n",
       "    </tr>\n",
       "    <tr>\n",
       "      <th>4</th>\n",
       "      <td>427440</td>\n",
       "      <td>2019-04-25 13:20:09</td>\n",
       "      <td>3.00</td>\n",
       "      <td>20</td>\n",
       "      <td>0</td>\n",
       "      <td>0</td>\n",
       "      <td>5</td>\n",
       "    </tr>\n",
       "    <tr>\n",
       "      <th>...</th>\n",
       "      <td>...</td>\n",
       "      <td>...</td>\n",
       "      <td>...</td>\n",
       "      <td>...</td>\n",
       "      <td>...</td>\n",
       "      <td>...</td>\n",
       "      <td>...</td>\n",
       "    </tr>\n",
       "    <tr>\n",
       "      <th>406714</th>\n",
       "      <td>6426613</td>\n",
       "      <td>2019-07-29 23:40:08</td>\n",
       "      <td>23.00</td>\n",
       "      <td>18</td>\n",
       "      <td>3</td>\n",
       "      <td>0</td>\n",
       "      <td>0</td>\n",
       "    </tr>\n",
       "    <tr>\n",
       "      <th>406715</th>\n",
       "      <td>6426610</td>\n",
       "      <td>2019-07-29 23:40:08</td>\n",
       "      <td>0.00</td>\n",
       "      <td>5</td>\n",
       "      <td>3</td>\n",
       "      <td>0</td>\n",
       "      <td>3</td>\n",
       "    </tr>\n",
       "    <tr>\n",
       "      <th>406716</th>\n",
       "      <td>6426611</td>\n",
       "      <td>2019-07-29 23:40:08</td>\n",
       "      <td>1007.10</td>\n",
       "      <td>9</td>\n",
       "      <td>3</td>\n",
       "      <td>0</td>\n",
       "      <td>36</td>\n",
       "    </tr>\n",
       "    <tr>\n",
       "      <th>406717</th>\n",
       "      <td>6426617</td>\n",
       "      <td>2019-07-29 23:40:08</td>\n",
       "      <td>0.00</td>\n",
       "      <td>22</td>\n",
       "      <td>3</td>\n",
       "      <td>0</td>\n",
       "      <td>7</td>\n",
       "    </tr>\n",
       "    <tr>\n",
       "      <th>406718</th>\n",
       "      <td>6426596</td>\n",
       "      <td>2019-07-29 23:40:08</td>\n",
       "      <td>310.00</td>\n",
       "      <td>21</td>\n",
       "      <td>2</td>\n",
       "      <td>0</td>\n",
       "      <td>6</td>\n",
       "    </tr>\n",
       "  </tbody>\n",
       "</table>\n",
       "<p>406719 rows × 7 columns</p>\n",
       "</div>"
      ],
      "text/plain": [
       "             id            timestamp    value  identifier  location_id  \\\n",
       "0        427436  2019-04-25 13:20:09  1021.80           9            0   \n",
       "1        427439  2019-04-25 13:20:09    12.00          19            0   \n",
       "2        427434  2019-04-25 13:20:09     0.00           7            0   \n",
       "3        427435  2019-04-25 13:20:09     0.51           5            0   \n",
       "4        427440  2019-04-25 13:20:09     3.00          20            0   \n",
       "...         ...                  ...      ...         ...          ...   \n",
       "406714  6426613  2019-07-29 23:40:08    23.00          18            3   \n",
       "406715  6426610  2019-07-29 23:40:08     0.00           5            3   \n",
       "406716  6426611  2019-07-29 23:40:08  1007.10           9            3   \n",
       "406717  6426617  2019-07-29 23:40:08     0.00          22            3   \n",
       "406718  6426596  2019-07-29 23:40:08   310.00          21            2   \n",
       "\n",
       "        source_id  value_type_id  \n",
       "0               0              9  \n",
       "1               0              4  \n",
       "2               0              2  \n",
       "3               0              3  \n",
       "4               0              5  \n",
       "...           ...            ...  \n",
       "406714          0              0  \n",
       "406715          0              3  \n",
       "406716          0             36  \n",
       "406717          0              7  \n",
       "406718          0              6  \n",
       "\n",
       "[406719 rows x 7 columns]"
      ]
     },
     "execution_count": 282,
     "metadata": {},
     "output_type": "execute_result"
    }
   ],
   "source": [
    "#Here I reprint the dataframe with the identifier and location_id columns being converted into numerical values\n",
    "df.drop('identifier', axis=1, inplace=True)\n",
    "df.drop('location_id', axis=1, inplace=True)\n",
    "df.drop('value_type_id', axis=1, inplace=True)\n",
    "df.drop('source_id', axis=1, inplace=True)\n",
    "\n",
    "\n",
    "df['identifier'] = label1\n",
    "df['location_id'] = label2\n",
    "df['source_id'] = label3\n",
    "df['value_type_id']=label4\n",
    "\n",
    "\n",
    "df\n"
   ]
  },
  {
   "cell_type": "code",
   "execution_count": 283,
   "id": "2af27d28",
   "metadata": {},
   "outputs": [],
   "source": [
    "#Converting the column timestamp into 5 different columns each of them showing the year, the month, the day, the exact hour, the minutes\n",
    "#I have converted seconds into minutes and merged them with the minutes column"
   ]
  },
  {
   "cell_type": "code",
   "execution_count": 284,
   "id": "88dbd11f",
   "metadata": {},
   "outputs": [
    {
     "data": {
      "text/html": [
       "<div>\n",
       "<style scoped>\n",
       "    .dataframe tbody tr th:only-of-type {\n",
       "        vertical-align: middle;\n",
       "    }\n",
       "\n",
       "    .dataframe tbody tr th {\n",
       "        vertical-align: top;\n",
       "    }\n",
       "\n",
       "    .dataframe thead th {\n",
       "        text-align: right;\n",
       "    }\n",
       "</style>\n",
       "<table border=\"1\" class=\"dataframe\">\n",
       "  <thead>\n",
       "    <tr style=\"text-align: right;\">\n",
       "      <th></th>\n",
       "      <th>id</th>\n",
       "      <th>timestamp</th>\n",
       "      <th>value</th>\n",
       "      <th>identifier</th>\n",
       "      <th>location_id</th>\n",
       "      <th>source_id</th>\n",
       "      <th>value_type_id</th>\n",
       "      <th>year</th>\n",
       "      <th>month</th>\n",
       "      <th>day</th>\n",
       "      <th>time</th>\n",
       "      <th>hour</th>\n",
       "      <th>minute</th>\n",
       "    </tr>\n",
       "  </thead>\n",
       "  <tbody>\n",
       "    <tr>\n",
       "      <th>0</th>\n",
       "      <td>427436</td>\n",
       "      <td>2019-04-25 13:20:09</td>\n",
       "      <td>1021.80</td>\n",
       "      <td>9</td>\n",
       "      <td>0</td>\n",
       "      <td>0</td>\n",
       "      <td>9</td>\n",
       "      <td>2019</td>\n",
       "      <td>4</td>\n",
       "      <td>25</td>\n",
       "      <td>13:20:09</td>\n",
       "      <td>13</td>\n",
       "      <td>20.15</td>\n",
       "    </tr>\n",
       "    <tr>\n",
       "      <th>1</th>\n",
       "      <td>427439</td>\n",
       "      <td>2019-04-25 13:20:09</td>\n",
       "      <td>12.00</td>\n",
       "      <td>19</td>\n",
       "      <td>0</td>\n",
       "      <td>0</td>\n",
       "      <td>4</td>\n",
       "      <td>2019</td>\n",
       "      <td>4</td>\n",
       "      <td>25</td>\n",
       "      <td>13:20:09</td>\n",
       "      <td>13</td>\n",
       "      <td>20.15</td>\n",
       "    </tr>\n",
       "    <tr>\n",
       "      <th>2</th>\n",
       "      <td>427434</td>\n",
       "      <td>2019-04-25 13:20:09</td>\n",
       "      <td>0.00</td>\n",
       "      <td>7</td>\n",
       "      <td>0</td>\n",
       "      <td>0</td>\n",
       "      <td>2</td>\n",
       "      <td>2019</td>\n",
       "      <td>4</td>\n",
       "      <td>25</td>\n",
       "      <td>13:20:09</td>\n",
       "      <td>13</td>\n",
       "      <td>20.15</td>\n",
       "    </tr>\n",
       "    <tr>\n",
       "      <th>3</th>\n",
       "      <td>427435</td>\n",
       "      <td>2019-04-25 13:20:09</td>\n",
       "      <td>0.51</td>\n",
       "      <td>5</td>\n",
       "      <td>0</td>\n",
       "      <td>0</td>\n",
       "      <td>3</td>\n",
       "      <td>2019</td>\n",
       "      <td>4</td>\n",
       "      <td>25</td>\n",
       "      <td>13:20:09</td>\n",
       "      <td>13</td>\n",
       "      <td>20.15</td>\n",
       "    </tr>\n",
       "    <tr>\n",
       "      <th>4</th>\n",
       "      <td>427440</td>\n",
       "      <td>2019-04-25 13:20:09</td>\n",
       "      <td>3.00</td>\n",
       "      <td>20</td>\n",
       "      <td>0</td>\n",
       "      <td>0</td>\n",
       "      <td>5</td>\n",
       "      <td>2019</td>\n",
       "      <td>4</td>\n",
       "      <td>25</td>\n",
       "      <td>13:20:09</td>\n",
       "      <td>13</td>\n",
       "      <td>20.15</td>\n",
       "    </tr>\n",
       "    <tr>\n",
       "      <th>...</th>\n",
       "      <td>...</td>\n",
       "      <td>...</td>\n",
       "      <td>...</td>\n",
       "      <td>...</td>\n",
       "      <td>...</td>\n",
       "      <td>...</td>\n",
       "      <td>...</td>\n",
       "      <td>...</td>\n",
       "      <td>...</td>\n",
       "      <td>...</td>\n",
       "      <td>...</td>\n",
       "      <td>...</td>\n",
       "      <td>...</td>\n",
       "    </tr>\n",
       "    <tr>\n",
       "      <th>406714</th>\n",
       "      <td>6426613</td>\n",
       "      <td>2019-07-29 23:40:08</td>\n",
       "      <td>23.00</td>\n",
       "      <td>18</td>\n",
       "      <td>3</td>\n",
       "      <td>0</td>\n",
       "      <td>0</td>\n",
       "      <td>2019</td>\n",
       "      <td>7</td>\n",
       "      <td>29</td>\n",
       "      <td>23:40:08</td>\n",
       "      <td>23</td>\n",
       "      <td>40.13</td>\n",
       "    </tr>\n",
       "    <tr>\n",
       "      <th>406715</th>\n",
       "      <td>6426610</td>\n",
       "      <td>2019-07-29 23:40:08</td>\n",
       "      <td>0.00</td>\n",
       "      <td>5</td>\n",
       "      <td>3</td>\n",
       "      <td>0</td>\n",
       "      <td>3</td>\n",
       "      <td>2019</td>\n",
       "      <td>7</td>\n",
       "      <td>29</td>\n",
       "      <td>23:40:08</td>\n",
       "      <td>23</td>\n",
       "      <td>40.13</td>\n",
       "    </tr>\n",
       "    <tr>\n",
       "      <th>406716</th>\n",
       "      <td>6426611</td>\n",
       "      <td>2019-07-29 23:40:08</td>\n",
       "      <td>1007.10</td>\n",
       "      <td>9</td>\n",
       "      <td>3</td>\n",
       "      <td>0</td>\n",
       "      <td>36</td>\n",
       "      <td>2019</td>\n",
       "      <td>7</td>\n",
       "      <td>29</td>\n",
       "      <td>23:40:08</td>\n",
       "      <td>23</td>\n",
       "      <td>40.13</td>\n",
       "    </tr>\n",
       "    <tr>\n",
       "      <th>406717</th>\n",
       "      <td>6426617</td>\n",
       "      <td>2019-07-29 23:40:08</td>\n",
       "      <td>0.00</td>\n",
       "      <td>22</td>\n",
       "      <td>3</td>\n",
       "      <td>0</td>\n",
       "      <td>7</td>\n",
       "      <td>2019</td>\n",
       "      <td>7</td>\n",
       "      <td>29</td>\n",
       "      <td>23:40:08</td>\n",
       "      <td>23</td>\n",
       "      <td>40.13</td>\n",
       "    </tr>\n",
       "    <tr>\n",
       "      <th>406718</th>\n",
       "      <td>6426596</td>\n",
       "      <td>2019-07-29 23:40:08</td>\n",
       "      <td>310.00</td>\n",
       "      <td>21</td>\n",
       "      <td>2</td>\n",
       "      <td>0</td>\n",
       "      <td>6</td>\n",
       "      <td>2019</td>\n",
       "      <td>7</td>\n",
       "      <td>29</td>\n",
       "      <td>23:40:08</td>\n",
       "      <td>23</td>\n",
       "      <td>40.13</td>\n",
       "    </tr>\n",
       "  </tbody>\n",
       "</table>\n",
       "<p>406719 rows × 13 columns</p>\n",
       "</div>"
      ],
      "text/plain": [
       "             id            timestamp    value  identifier  location_id  \\\n",
       "0        427436  2019-04-25 13:20:09  1021.80           9            0   \n",
       "1        427439  2019-04-25 13:20:09    12.00          19            0   \n",
       "2        427434  2019-04-25 13:20:09     0.00           7            0   \n",
       "3        427435  2019-04-25 13:20:09     0.51           5            0   \n",
       "4        427440  2019-04-25 13:20:09     3.00          20            0   \n",
       "...         ...                  ...      ...         ...          ...   \n",
       "406714  6426613  2019-07-29 23:40:08    23.00          18            3   \n",
       "406715  6426610  2019-07-29 23:40:08     0.00           5            3   \n",
       "406716  6426611  2019-07-29 23:40:08  1007.10           9            3   \n",
       "406717  6426617  2019-07-29 23:40:08     0.00          22            3   \n",
       "406718  6426596  2019-07-29 23:40:08   310.00          21            2   \n",
       "\n",
       "        source_id  value_type_id  year  month  day      time  hour   minute  \n",
       "0               0              9  2019      4   25  13:20:09     13   20.15  \n",
       "1               0              4  2019      4   25  13:20:09     13   20.15  \n",
       "2               0              2  2019      4   25  13:20:09     13   20.15  \n",
       "3               0              3  2019      4   25  13:20:09     13   20.15  \n",
       "4               0              5  2019      4   25  13:20:09     13   20.15  \n",
       "...           ...            ...   ...    ...  ...       ...    ...     ...  \n",
       "406714          0              0  2019      7   29  23:40:08     23   40.13  \n",
       "406715          0              3  2019      7   29  23:40:08     23   40.13  \n",
       "406716          0             36  2019      7   29  23:40:08     23   40.13  \n",
       "406717          0              7  2019      7   29  23:40:08     23   40.13  \n",
       "406718          0              6  2019      7   29  23:40:08     23   40.13  \n",
       "\n",
       "[406719 rows x 13 columns]"
      ]
     },
     "execution_count": 284,
     "metadata": {},
     "output_type": "execute_result"
    }
   ],
   "source": [
    "df['year'] = pd.to_datetime(df['timestamp']).dt.year\n",
    "df['month'] = pd.to_datetime(df['timestamp']).dt.month\n",
    "df['day'] = pd.to_datetime(df['timestamp']).dt.day\n",
    "df['time'] = pd.to_datetime(df['timestamp']).dt.time\n",
    "df['hour '] = pd.to_datetime(df['timestamp']).dt.hour\n",
    "df['minute'] = round(pd.to_datetime(df['timestamp']).dt.minute+pd.to_datetime(df['timestamp']).dt.second/60,2)\n",
    "\n",
    "df\n",
    "\n"
   ]
  },
  {
   "cell_type": "code",
   "execution_count": 285,
   "id": "a05f9d6e",
   "metadata": {},
   "outputs": [],
   "source": [
    "df.drop('timestamp', axis=1, inplace=True)\n",
    "df.drop('time', axis=1, inplace=True)"
   ]
  },
  {
   "cell_type": "code",
   "execution_count": 19,
   "id": "363fc44d",
   "metadata": {},
   "outputs": [],
   "source": [
    "#Datascalling technics: Here I use Min-Max Normalization and Standardization\n",
    "#Min-Max Normalization "
   ]
  },
  {
   "cell_type": "code",
   "execution_count": 286,
   "id": "0d4a7f67",
   "metadata": {},
   "outputs": [],
   "source": [
    "#I excluded the timestamp  and id columns / created a new dataframe\n",
    "df2 = df[['value','value_type_id','source_id','identifier','location_id']].copy()\n",
    "\n"
   ]
  },
  {
   "cell_type": "code",
   "execution_count": 287,
   "id": "477221bd",
   "metadata": {},
   "outputs": [
    {
     "name": "stdout",
     "output_type": "stream",
     "text": [
      "The scaled Dataset using MinMaxScaler is:\n"
     ]
    },
    {
     "data": {
      "text/html": [
       "<div>\n",
       "<style scoped>\n",
       "    .dataframe tbody tr th:only-of-type {\n",
       "        vertical-align: middle;\n",
       "    }\n",
       "\n",
       "    .dataframe tbody tr th {\n",
       "        vertical-align: top;\n",
       "    }\n",
       "\n",
       "    .dataframe thead th {\n",
       "        text-align: right;\n",
       "    }\n",
       "</style>\n",
       "<table border=\"1\" class=\"dataframe\">\n",
       "  <thead>\n",
       "    <tr style=\"text-align: right;\">\n",
       "      <th></th>\n",
       "      <th>value</th>\n",
       "      <th>value_type_id</th>\n",
       "      <th>source_id</th>\n",
       "      <th>identifier</th>\n",
       "      <th>location_id</th>\n",
       "    </tr>\n",
       "  </thead>\n",
       "  <tbody>\n",
       "    <tr>\n",
       "      <th>0</th>\n",
       "      <td>0.999902</td>\n",
       "      <td>0.195652</td>\n",
       "      <td>0.0</td>\n",
       "      <td>0.391304</td>\n",
       "      <td>0.00</td>\n",
       "    </tr>\n",
       "    <tr>\n",
       "      <th>1</th>\n",
       "      <td>0.011761</td>\n",
       "      <td>0.086957</td>\n",
       "      <td>0.0</td>\n",
       "      <td>0.826087</td>\n",
       "      <td>0.00</td>\n",
       "    </tr>\n",
       "    <tr>\n",
       "      <th>2</th>\n",
       "      <td>0.000019</td>\n",
       "      <td>0.043478</td>\n",
       "      <td>0.0</td>\n",
       "      <td>0.304348</td>\n",
       "      <td>0.00</td>\n",
       "    </tr>\n",
       "    <tr>\n",
       "      <th>3</th>\n",
       "      <td>0.000518</td>\n",
       "      <td>0.065217</td>\n",
       "      <td>0.0</td>\n",
       "      <td>0.217391</td>\n",
       "      <td>0.00</td>\n",
       "    </tr>\n",
       "    <tr>\n",
       "      <th>4</th>\n",
       "      <td>0.002954</td>\n",
       "      <td>0.108696</td>\n",
       "      <td>0.0</td>\n",
       "      <td>0.869565</td>\n",
       "      <td>0.00</td>\n",
       "    </tr>\n",
       "    <tr>\n",
       "      <th>...</th>\n",
       "      <td>...</td>\n",
       "      <td>...</td>\n",
       "      <td>...</td>\n",
       "      <td>...</td>\n",
       "      <td>...</td>\n",
       "    </tr>\n",
       "    <tr>\n",
       "      <th>406714</th>\n",
       "      <td>0.022525</td>\n",
       "      <td>0.000000</td>\n",
       "      <td>0.0</td>\n",
       "      <td>0.782609</td>\n",
       "      <td>0.75</td>\n",
       "    </tr>\n",
       "    <tr>\n",
       "      <th>406715</th>\n",
       "      <td>0.000019</td>\n",
       "      <td>0.065217</td>\n",
       "      <td>0.0</td>\n",
       "      <td>0.217391</td>\n",
       "      <td>0.75</td>\n",
       "    </tr>\n",
       "    <tr>\n",
       "      <th>406716</th>\n",
       "      <td>0.985517</td>\n",
       "      <td>0.782609</td>\n",
       "      <td>0.0</td>\n",
       "      <td>0.391304</td>\n",
       "      <td>0.75</td>\n",
       "    </tr>\n",
       "    <tr>\n",
       "      <th>406717</th>\n",
       "      <td>0.000019</td>\n",
       "      <td>0.152174</td>\n",
       "      <td>0.0</td>\n",
       "      <td>0.956522</td>\n",
       "      <td>0.75</td>\n",
       "    </tr>\n",
       "    <tr>\n",
       "      <th>406718</th>\n",
       "      <td>0.303369</td>\n",
       "      <td>0.130435</td>\n",
       "      <td>0.0</td>\n",
       "      <td>0.913043</td>\n",
       "      <td>0.50</td>\n",
       "    </tr>\n",
       "  </tbody>\n",
       "</table>\n",
       "<p>406719 rows × 5 columns</p>\n",
       "</div>"
      ],
      "text/plain": [
       "           value  value_type_id  source_id  identifier  location_id\n",
       "0       0.999902       0.195652        0.0    0.391304         0.00\n",
       "1       0.011761       0.086957        0.0    0.826087         0.00\n",
       "2       0.000019       0.043478        0.0    0.304348         0.00\n",
       "3       0.000518       0.065217        0.0    0.217391         0.00\n",
       "4       0.002954       0.108696        0.0    0.869565         0.00\n",
       "...          ...            ...        ...         ...          ...\n",
       "406714  0.022525       0.000000        0.0    0.782609         0.75\n",
       "406715  0.000019       0.065217        0.0    0.217391         0.75\n",
       "406716  0.985517       0.782609        0.0    0.391304         0.75\n",
       "406717  0.000019       0.152174        0.0    0.956522         0.75\n",
       "406718  0.303369       0.130435        0.0    0.913043         0.50\n",
       "\n",
       "[406719 rows x 5 columns]"
      ]
     },
     "execution_count": 287,
     "metadata": {},
     "output_type": "execute_result"
    }
   ],
   "source": [
    "\n",
    "from sklearn.preprocessing import MinMaxScaler\n",
    "\n",
    "\n",
    "scaler = MinMaxScaler()\n",
    " \n",
    "df_scaled = scaler.fit_transform(df2.to_numpy())\n",
    "df_scaled = pd.DataFrame(df_scaled, columns=[\n",
    "'value','value_type_id','source_id','identifier','location_id'])\n",
    " \n",
    "print(\"The scaled Dataset using MinMaxScaler is:\")\n",
    "\n",
    "df_scaled\n"
   ]
  },
  {
   "cell_type": "code",
   "execution_count": 288,
   "id": "fe35d367",
   "metadata": {},
   "outputs": [
    {
     "name": "stdout",
     "output_type": "stream",
     "text": [
      "The scaled Dataset using StandardScaler is:\n"
     ]
    },
    {
     "data": {
      "text/html": [
       "<div>\n",
       "<style scoped>\n",
       "    .dataframe tbody tr th:only-of-type {\n",
       "        vertical-align: middle;\n",
       "    }\n",
       "\n",
       "    .dataframe tbody tr th {\n",
       "        vertical-align: top;\n",
       "    }\n",
       "\n",
       "    .dataframe thead th {\n",
       "        text-align: right;\n",
       "    }\n",
       "</style>\n",
       "<table border=\"1\" class=\"dataframe\">\n",
       "  <thead>\n",
       "    <tr style=\"text-align: right;\">\n",
       "      <th></th>\n",
       "      <th>value</th>\n",
       "      <th>value_type_id</th>\n",
       "      <th>source_id</th>\n",
       "      <th>identifier</th>\n",
       "      <th>location_id</th>\n",
       "    </tr>\n",
       "  </thead>\n",
       "  <tbody>\n",
       "    <tr>\n",
       "      <th>0</th>\n",
       "      <td>2.697576</td>\n",
       "      <td>-1.019711</td>\n",
       "      <td>-0.513088</td>\n",
       "      <td>-0.657385</td>\n",
       "      <td>-1.22296</td>\n",
       "    </tr>\n",
       "    <tr>\n",
       "      <th>1</th>\n",
       "      <td>-0.439433</td>\n",
       "      <td>-1.429844</td>\n",
       "      <td>-0.513088</td>\n",
       "      <td>0.782738</td>\n",
       "      <td>-1.22296</td>\n",
       "    </tr>\n",
       "    <tr>\n",
       "      <th>2</th>\n",
       "      <td>-0.476712</td>\n",
       "      <td>-1.593898</td>\n",
       "      <td>-0.513088</td>\n",
       "      <td>-0.945410</td>\n",
       "      <td>-1.22296</td>\n",
       "    </tr>\n",
       "    <tr>\n",
       "      <th>3</th>\n",
       "      <td>-0.475127</td>\n",
       "      <td>-1.511871</td>\n",
       "      <td>-0.513088</td>\n",
       "      <td>-1.233434</td>\n",
       "      <td>-1.22296</td>\n",
       "    </tr>\n",
       "    <tr>\n",
       "      <th>4</th>\n",
       "      <td>-0.467392</td>\n",
       "      <td>-1.347818</td>\n",
       "      <td>-0.513088</td>\n",
       "      <td>0.926750</td>\n",
       "      <td>-1.22296</td>\n",
       "    </tr>\n",
       "  </tbody>\n",
       "</table>\n",
       "</div>"
      ],
      "text/plain": [
       "      value  value_type_id  source_id  identifier  location_id\n",
       "0  2.697576      -1.019711  -0.513088   -0.657385     -1.22296\n",
       "1 -0.439433      -1.429844  -0.513088    0.782738     -1.22296\n",
       "2 -0.476712      -1.593898  -0.513088   -0.945410     -1.22296\n",
       "3 -0.475127      -1.511871  -0.513088   -1.233434     -1.22296\n",
       "4 -0.467392      -1.347818  -0.513088    0.926750     -1.22296"
      ]
     },
     "execution_count": 288,
     "metadata": {},
     "output_type": "execute_result"
    }
   ],
   "source": [
    "#Standardization method\n",
    "from sklearn.preprocessing import StandardScaler\n",
    "std_scaler = StandardScaler()\n",
    " \n",
    "df_scaled = std_scaler.fit_transform(df2.to_numpy())\n",
    "df_scaled = pd.DataFrame(df_scaled, columns=[\n",
    "  'value','value_type_id','source_id','identifier','location_id'])\n",
    " \n",
    "print(\"The scaled Dataset using StandardScaler is:\")\n",
    "df_scaled.head()"
   ]
  },
  {
   "cell_type": "code",
   "execution_count": 265,
   "id": "4d49ac58",
   "metadata": {},
   "outputs": [],
   "source": [
    "##PART TWO\n",
    "#(please run PART ONE first)\n",
    "# Creating a neural network- I will try two predict the 'value' depending on 'location_id' and 'value_type_id' features"
   ]
  },
  {
   "cell_type": "code",
   "execution_count": 222,
   "id": "a33b2b14",
   "metadata": {},
   "outputs": [],
   "source": [
    "from sklearn.model_selection import train_test_split"
   ]
  },
  {
   "cell_type": "code",
   "execution_count": 223,
   "id": "48028196",
   "metadata": {},
   "outputs": [],
   "source": [
    "#The columns that I will use as numpy array\n",
    "X = df[['location_id','value_type_id']].values\n",
    "\n",
    "# Label that I am going to predict\n",
    "y = df['value'].values\n",
    "\n",
    "# Here I do the train and test Split:30% of the data is used for the test size\n",
    "X_train, X_test, y_train, y_test = train_test_split(X,y,test_size=0.3,random_state=42)"
   ]
  },
  {
   "cell_type": "code",
   "execution_count": 72,
   "id": "37f45fcd",
   "metadata": {},
   "outputs": [
    {
     "data": {
      "text/plain": [
       "122016"
      ]
     },
     "execution_count": 72,
     "metadata": {},
     "output_type": "execute_result"
    }
   ],
   "source": [
    "#X_test.shape[0]"
   ]
  },
  {
   "cell_type": "code",
   "execution_count": 224,
   "id": "36a96121",
   "metadata": {},
   "outputs": [],
   "source": [
    "#Normalizing the data (as in part one) in order to avoid errors with the weights in the network\n",
    "from sklearn.preprocessing import MinMaxScaler\n",
    "scaler = MinMaxScaler()\n",
    "scaler.fit(X_train)\n",
    "X_train = scaler.transform(X_train)\n",
    "X_test = scaler.transform(X_test)"
   ]
  },
  {
   "cell_type": "code",
   "execution_count": 73,
   "id": "99f913e6",
   "metadata": {},
   "outputs": [],
   "source": [
    "#Activation function:relu, optimasation method: Adam algorithm , error function: mean square error"
   ]
  },
  {
   "cell_type": "code",
   "execution_count": 226,
   "id": "1799a5e8",
   "metadata": {},
   "outputs": [],
   "source": [
    "#Set up a sequential model\n",
    "model = Sequential()\n",
    "#Add dense layers (densely connected nn) to the sequential model\n",
    "#units=4,3, 2, 1 is the number of neurons on each layer\n",
    "model.add(Dense(4,activation='relu'))\n",
    "model.add(Dense(4,activation='relu'))\n",
    "model.add(Dense(3,activation='relu'))\n",
    "model.add(Dense(2,activation='relu'))\n",
    "model.add(Dense(1))\n",
    "\n",
    "#Here I compile the model using as an optimizer the Adam optimizer. The loss parameter is the  mean square error\n",
    "model.compile(optimizer='adam',loss='mse')"
   ]
  },
  {
   "cell_type": "code",
   "execution_count": 227,
   "id": "8779f441",
   "metadata": {},
   "outputs": [
    {
     "name": "stdout",
     "output_type": "stream",
     "text": [
      "Epoch 1/100\n",
      "8897/8897 [==============================] - 19s 2ms/step - loss: 101991.3203\n",
      "Epoch 2/100\n",
      "8897/8897 [==============================] - 19s 2ms/step - loss: 99981.8828\n",
      "Epoch 3/100\n",
      "8897/8897 [==============================] - 20s 2ms/step - loss: 99972.8516\n",
      "Epoch 4/100\n",
      "8897/8897 [==============================] - 22s 2ms/step - loss: 99976.7031\n",
      "Epoch 5/100\n",
      "8897/8897 [==============================] - 21s 2ms/step - loss: 99973.3203\n",
      "Epoch 6/100\n",
      "8897/8897 [==============================] - 21s 2ms/step - loss: 99975.2109\n",
      "Epoch 7/100\n",
      "8897/8897 [==============================] - 22s 2ms/step - loss: 99972.0078\n",
      "Epoch 8/100\n",
      "8897/8897 [==============================] - 21s 2ms/step - loss: 99975.6875\n",
      "Epoch 9/100\n",
      "8897/8897 [==============================] - 21s 2ms/step - loss: 99974.7891\n",
      "Epoch 10/100\n",
      "8897/8897 [==============================] - 23s 3ms/step - loss: 99975.2422\n",
      "Epoch 11/100\n",
      "8897/8897 [==============================] - 20s 2ms/step - loss: 99972.1406\n",
      "Epoch 12/100\n",
      "8897/8897 [==============================] - 20s 2ms/step - loss: 99975.6406\n",
      "Epoch 13/100\n",
      "8897/8897 [==============================] - 20s 2ms/step - loss: 99972.6562\n",
      "Epoch 14/100\n",
      "8897/8897 [==============================] - 20s 2ms/step - loss: 99969.9922\n",
      "Epoch 15/100\n",
      "8897/8897 [==============================] - 19s 2ms/step - loss: 99971.9062\n",
      "Epoch 16/100\n",
      "8897/8897 [==============================] - 19s 2ms/step - loss: 99976.4531\n",
      "Epoch 17/100\n",
      "8897/8897 [==============================] - 19s 2ms/step - loss: 99975.1094\n",
      "Epoch 18/100\n",
      "8897/8897 [==============================] - 19s 2ms/step - loss: 99972.1172\n",
      "Epoch 19/100\n",
      "8897/8897 [==============================] - 20s 2ms/step - loss: 99967.0469\n",
      "Epoch 20/100\n",
      "8897/8897 [==============================] - 19s 2ms/step - loss: 99968.7578\n",
      "Epoch 21/100\n",
      "8897/8897 [==============================] - 19s 2ms/step - loss: 99970.3047\n",
      "Epoch 22/100\n",
      "8897/8897 [==============================] - 20s 2ms/step - loss: 99970.1094\n",
      "Epoch 23/100\n",
      "8897/8897 [==============================] - 19s 2ms/step - loss: 99971.7734\n",
      "Epoch 24/100\n",
      "8897/8897 [==============================] - 20s 2ms/step - loss: 99972.4297\n",
      "Epoch 25/100\n",
      "8897/8897 [==============================] - 19s 2ms/step - loss: 99975.8359\n",
      "Epoch 26/100\n",
      "8897/8897 [==============================] - 19s 2ms/step - loss: 99973.9922\n",
      "Epoch 27/100\n",
      "8897/8897 [==============================] - 19s 2ms/step - loss: 99976.9609\n",
      "Epoch 28/100\n",
      "8897/8897 [==============================] - 20s 2ms/step - loss: 99971.3750\n",
      "Epoch 29/100\n",
      "8897/8897 [==============================] - 19s 2ms/step - loss: 99972.8438\n",
      "Epoch 30/100\n",
      "8897/8897 [==============================] - 19s 2ms/step - loss: 99971.1172\n",
      "Epoch 31/100\n",
      "8897/8897 [==============================] - 19s 2ms/step - loss: 99970.0234\n",
      "Epoch 32/100\n",
      "8897/8897 [==============================] - 20s 2ms/step - loss: 99976.6562\n",
      "Epoch 33/100\n",
      "8897/8897 [==============================] - 20s 2ms/step - loss: 99974.5781\n",
      "Epoch 34/100\n",
      "8897/8897 [==============================] - 19s 2ms/step - loss: 99977.4375\n",
      "Epoch 35/100\n",
      "8897/8897 [==============================] - 19s 2ms/step - loss: 99971.7500\n",
      "Epoch 36/100\n",
      "8897/8897 [==============================] - 19s 2ms/step - loss: 99971.4766\n",
      "Epoch 37/100\n",
      "8897/8897 [==============================] - 20s 2ms/step - loss: 99973.5938\n",
      "Epoch 38/100\n",
      "8897/8897 [==============================] - 20s 2ms/step - loss: 99970.1562\n",
      "Epoch 39/100\n",
      "8897/8897 [==============================] - 19s 2ms/step - loss: 99972.8594\n",
      "Epoch 40/100\n",
      "8897/8897 [==============================] - 19s 2ms/step - loss: 99974.8047\n",
      "Epoch 41/100\n",
      "8897/8897 [==============================] - 20s 2ms/step - loss: 99975.9688\n",
      "Epoch 42/100\n",
      "8897/8897 [==============================] - 20s 2ms/step - loss: 99972.8672\n",
      "Epoch 43/100\n",
      "8897/8897 [==============================] - 18s 2ms/step - loss: 99973.9922\n",
      "Epoch 44/100\n",
      "8897/8897 [==============================] - 18s 2ms/step - loss: 99973.1484\n",
      "Epoch 45/100\n",
      "8897/8897 [==============================] - 18s 2ms/step - loss: 99968.6406\n",
      "Epoch 46/100\n",
      "8897/8897 [==============================] - 18s 2ms/step - loss: 99970.1562\n",
      "Epoch 47/100\n",
      "8897/8897 [==============================] - 18s 2ms/step - loss: 99973.6719\n",
      "Epoch 48/100\n",
      "8897/8897 [==============================] - 18s 2ms/step - loss: 99966.6641\n",
      "Epoch 49/100\n",
      "8897/8897 [==============================] - 18s 2ms/step - loss: 99972.8359\n",
      "Epoch 50/100\n",
      "8897/8897 [==============================] - 18s 2ms/step - loss: 99974.9141\n",
      "Epoch 51/100\n",
      "8897/8897 [==============================] - 18s 2ms/step - loss: 99976.4219\n",
      "Epoch 52/100\n",
      "8897/8897 [==============================] - 18s 2ms/step - loss: 99975.1719\n",
      "Epoch 53/100\n",
      "8897/8897 [==============================] - 18s 2ms/step - loss: 99978.9219\n",
      "Epoch 54/100\n",
      "8897/8897 [==============================] - 18s 2ms/step - loss: 99970.8594\n",
      "Epoch 55/100\n",
      "8897/8897 [==============================] - 18s 2ms/step - loss: 99972.2109\n",
      "Epoch 56/100\n",
      "8897/8897 [==============================] - 18s 2ms/step - loss: 99972.0391\n",
      "Epoch 57/100\n",
      "8897/8897 [==============================] - 18s 2ms/step - loss: 99972.0391\n",
      "Epoch 58/100\n",
      "8897/8897 [==============================] - 18s 2ms/step - loss: 99972.5391\n",
      "Epoch 59/100\n",
      "8897/8897 [==============================] - 18s 2ms/step - loss: 99969.0781\n",
      "Epoch 60/100\n",
      "8897/8897 [==============================] - 18s 2ms/step - loss: 99975.2422\n",
      "Epoch 61/100\n",
      "8897/8897 [==============================] - 17s 2ms/step - loss: 99970.9297\n",
      "Epoch 62/100\n",
      "8897/8897 [==============================] - 17s 2ms/step - loss: 99968.1562\n",
      "Epoch 63/100\n",
      "8897/8897 [==============================] - 17s 2ms/step - loss: 99972.8516\n",
      "Epoch 64/100\n",
      "8897/8897 [==============================] - 17s 2ms/step - loss: 99975.2422\n",
      "Epoch 65/100\n",
      "8897/8897 [==============================] - 18s 2ms/step - loss: 99972.8125\n",
      "Epoch 66/100\n",
      "8897/8897 [==============================] - 17s 2ms/step - loss: 99974.2812\n",
      "Epoch 67/100\n",
      "8897/8897 [==============================] - 17s 2ms/step - loss: 99970.8359\n",
      "Epoch 68/100\n",
      "8897/8897 [==============================] - 18s 2ms/step - loss: 99970.0547\n",
      "Epoch 69/100\n",
      "8897/8897 [==============================] - 18s 2ms/step - loss: 99967.9844\n",
      "Epoch 70/100\n",
      "8897/8897 [==============================] - 18s 2ms/step - loss: 99970.4609\n",
      "Epoch 71/100\n",
      "8897/8897 [==============================] - 17s 2ms/step - loss: 99969.8906\n",
      "Epoch 72/100\n",
      "8897/8897 [==============================] - 17s 2ms/step - loss: 99975.3047\n",
      "Epoch 73/100\n",
      "8897/8897 [==============================] - 18s 2ms/step - loss: 99969.6562\n",
      "Epoch 74/100\n",
      "8897/8897 [==============================] - 18s 2ms/step - loss: 99974.8984\n",
      "Epoch 75/100\n",
      "8897/8897 [==============================] - 18s 2ms/step - loss: 99974.7812\n",
      "Epoch 76/100\n",
      "8897/8897 [==============================] - 18s 2ms/step - loss: 99974.2891\n",
      "Epoch 77/100\n",
      "8897/8897 [==============================] - 17s 2ms/step - loss: 99975.1094\n",
      "Epoch 78/100\n",
      "8897/8897 [==============================] - 240s 27ms/step - loss: 99970.6328\n",
      "Epoch 79/100\n",
      "8897/8897 [==============================] - 17s 2ms/step - loss: 99973.9062\n",
      "Epoch 80/100\n",
      "8897/8897 [==============================] - 15s 2ms/step - loss: 99972.7578\n",
      "Epoch 81/100\n",
      "8897/8897 [==============================] - 15s 2ms/step - loss: 99968.9219\n",
      "Epoch 82/100\n",
      "8897/8897 [==============================] - 14s 2ms/step - loss: 99972.8672\n",
      "Epoch 83/100\n",
      "8897/8897 [==============================] - 14s 2ms/step - loss: 99970.7031\n",
      "Epoch 84/100\n",
      "8897/8897 [==============================] - 15s 2ms/step - loss: 99971.3594\n",
      "Epoch 85/100\n",
      "8897/8897 [==============================] - 14s 2ms/step - loss: 99967.8281\n",
      "Epoch 86/100\n",
      "8897/8897 [==============================] - 15s 2ms/step - loss: 99976.2812\n",
      "Epoch 87/100\n",
      "8897/8897 [==============================] - 15s 2ms/step - loss: 99969.8047\n",
      "Epoch 88/100\n",
      "8897/8897 [==============================] - 15s 2ms/step - loss: 99970.9141\n",
      "Epoch 89/100\n",
      "8897/8897 [==============================] - 15s 2ms/step - loss: 99977.4688\n",
      "Epoch 90/100\n",
      "8897/8897 [==============================] - 15s 2ms/step - loss: 99973.2031\n",
      "Epoch 91/100\n",
      "8897/8897 [==============================] - 14s 2ms/step - loss: 99974.4766\n",
      "Epoch 92/100\n"
     ]
    },
    {
     "name": "stdout",
     "output_type": "stream",
     "text": [
      "8897/8897 [==============================] - 14s 2ms/step - loss: 99971.9297\n",
      "Epoch 93/100\n",
      "8897/8897 [==============================] - 14s 2ms/step - loss: 99971.5859\n",
      "Epoch 94/100\n",
      "8897/8897 [==============================] - 14s 2ms/step - loss: 99976.4219\n",
      "Epoch 95/100\n",
      "8897/8897 [==============================] - 14s 2ms/step - loss: 99968.6953\n",
      "Epoch 96/100\n",
      "8897/8897 [==============================] - 15s 2ms/step - loss: 99966.5469\n",
      "Epoch 97/100\n",
      "8897/8897 [==============================] - 15s 2ms/step - loss: 99970.2500\n",
      "Epoch 98/100\n",
      "8897/8897 [==============================] - 15s 2ms/step - loss: 99969.1719\n",
      "Epoch 99/100\n",
      "8897/8897 [==============================] - 16s 2ms/step - loss: 99974.2969\n",
      "Epoch 100/100\n",
      "8897/8897 [==============================] - 16s 2ms/step - loss: 99972.6719\n"
     ]
    },
    {
     "data": {
      "text/plain": [
       "<keras.callbacks.History at 0x1db07126940>"
      ]
     },
     "execution_count": 227,
     "metadata": {},
     "output_type": "execute_result"
    }
   ],
   "source": [
    "#Fit the model: One epoch is one pass over the entire data set. Here I use 100 epochs\n",
    "model.fit(X_train,y_train,epochs=100)"
   ]
  },
  {
   "cell_type": "code",
   "execution_count": 228,
   "id": "7a1a21a3",
   "metadata": {},
   "outputs": [
    {
     "data": {
      "text/plain": [
       "99496.9453125"
      ]
     },
     "execution_count": 228,
     "metadata": {},
     "output_type": "execute_result"
    }
   ],
   "source": [
    "#Test predictions: I compare final evaluation (MSE) on training set and test set in order to see how well the predictions are performing\n",
    "\n",
    "#Returns the model's loss on the test set-mse:\n",
    "test_score = model.evaluate(X_test,y_test,verbose=0)\n",
    "\n",
    "test_score"
   ]
  },
  {
   "cell_type": "code",
   "execution_count": 229,
   "id": "e304ef86",
   "metadata": {},
   "outputs": [
    {
     "data": {
      "text/plain": [
       "100027.6640625"
      ]
     },
     "execution_count": 229,
     "metadata": {},
     "output_type": "execute_result"
    }
   ],
   "source": [
    "#Returns the model's loss on the training set -mse:\n",
    "training_score = model.evaluate(X_train,y_train,verbose=0)\n",
    "training_score"
   ]
  },
  {
   "cell_type": "code",
   "execution_count": 230,
   "id": "802e53b0",
   "metadata": {},
   "outputs": [
    {
     "name": "stdout",
     "output_type": "stream",
     "text": [
      "3813/3813 [==============================] - 5s 1ms/step\n"
     ]
    }
   ],
   "source": [
    "#values predicted (numpy array)\n",
    "test_predictions = model.predict(X_test)\n",
    "# I turn the predicted values into series in order to use them in a dataframe\n",
    "test_predictions = pd.Series(test_predictions.reshape(X_test.shape[0],))\n",
    "# The true values dataframe\n",
    "pred_df = pd.DataFrame(y_test,columns=['Test Y'])"
   ]
  },
  {
   "cell_type": "code",
   "execution_count": 231,
   "id": "bf33746c",
   "metadata": {},
   "outputs": [
    {
     "data": {
      "text/html": [
       "<div>\n",
       "<style scoped>\n",
       "    .dataframe tbody tr th:only-of-type {\n",
       "        vertical-align: middle;\n",
       "    }\n",
       "\n",
       "    .dataframe tbody tr th {\n",
       "        vertical-align: top;\n",
       "    }\n",
       "\n",
       "    .dataframe thead th {\n",
       "        text-align: right;\n",
       "    }\n",
       "</style>\n",
       "<table border=\"1\" class=\"dataframe\">\n",
       "  <thead>\n",
       "    <tr style=\"text-align: right;\">\n",
       "      <th></th>\n",
       "      <th>Test Y</th>\n",
       "    </tr>\n",
       "  </thead>\n",
       "  <tbody>\n",
       "    <tr>\n",
       "      <th>0</th>\n",
       "      <td>11.00</td>\n",
       "    </tr>\n",
       "    <tr>\n",
       "      <th>1</th>\n",
       "      <td>9.00</td>\n",
       "    </tr>\n",
       "    <tr>\n",
       "      <th>2</th>\n",
       "      <td>18.70</td>\n",
       "    </tr>\n",
       "    <tr>\n",
       "      <th>3</th>\n",
       "      <td>0.00</td>\n",
       "    </tr>\n",
       "    <tr>\n",
       "      <th>4</th>\n",
       "      <td>8.00</td>\n",
       "    </tr>\n",
       "    <tr>\n",
       "      <th>...</th>\n",
       "      <td>...</td>\n",
       "    </tr>\n",
       "    <tr>\n",
       "      <th>122011</th>\n",
       "      <td>304.99</td>\n",
       "    </tr>\n",
       "    <tr>\n",
       "      <th>122012</th>\n",
       "      <td>1010.90</td>\n",
       "    </tr>\n",
       "    <tr>\n",
       "      <th>122013</th>\n",
       "      <td>1011.29</td>\n",
       "    </tr>\n",
       "    <tr>\n",
       "      <th>122014</th>\n",
       "      <td>0.44</td>\n",
       "    </tr>\n",
       "    <tr>\n",
       "      <th>122015</th>\n",
       "      <td>32.30</td>\n",
       "    </tr>\n",
       "  </tbody>\n",
       "</table>\n",
       "<p>122016 rows × 1 columns</p>\n",
       "</div>"
      ],
      "text/plain": [
       "         Test Y\n",
       "0         11.00\n",
       "1          9.00\n",
       "2         18.70\n",
       "3          0.00\n",
       "4          8.00\n",
       "...         ...\n",
       "122011   304.99\n",
       "122012  1010.90\n",
       "122013  1011.29\n",
       "122014     0.44\n",
       "122015    32.30\n",
       "\n",
       "[122016 rows x 1 columns]"
      ]
     },
     "execution_count": 231,
     "metadata": {},
     "output_type": "execute_result"
    }
   ],
   "source": [
    "pred_df\n"
   ]
  },
  {
   "cell_type": "code",
   "execution_count": 232,
   "id": "b221c8eb",
   "metadata": {},
   "outputs": [],
   "source": [
    "#I make a dataframe that combines the above pred_df with the predicted values\n",
    "pred_df = pd.concat([pred_df,test_predictions],axis=1)\n",
    "pred_df.columns = ['Test Y','Model Predictions']"
   ]
  },
  {
   "cell_type": "code",
   "execution_count": 233,
   "id": "3f78b987",
   "metadata": {},
   "outputs": [
    {
     "data": {
      "text/html": [
       "<div>\n",
       "<style scoped>\n",
       "    .dataframe tbody tr th:only-of-type {\n",
       "        vertical-align: middle;\n",
       "    }\n",
       "\n",
       "    .dataframe tbody tr th {\n",
       "        vertical-align: top;\n",
       "    }\n",
       "\n",
       "    .dataframe thead th {\n",
       "        text-align: right;\n",
       "    }\n",
       "</style>\n",
       "<table border=\"1\" class=\"dataframe\">\n",
       "  <thead>\n",
       "    <tr style=\"text-align: right;\">\n",
       "      <th></th>\n",
       "      <th>Test Y</th>\n",
       "      <th>Model Predictions</th>\n",
       "    </tr>\n",
       "  </thead>\n",
       "  <tbody>\n",
       "    <tr>\n",
       "      <th>0</th>\n",
       "      <td>11.00</td>\n",
       "      <td>76.827423</td>\n",
       "    </tr>\n",
       "    <tr>\n",
       "      <th>1</th>\n",
       "      <td>9.00</td>\n",
       "      <td>76.827423</td>\n",
       "    </tr>\n",
       "    <tr>\n",
       "      <th>2</th>\n",
       "      <td>18.70</td>\n",
       "      <td>177.810440</td>\n",
       "    </tr>\n",
       "    <tr>\n",
       "      <th>3</th>\n",
       "      <td>0.00</td>\n",
       "      <td>174.201797</td>\n",
       "    </tr>\n",
       "    <tr>\n",
       "      <th>4</th>\n",
       "      <td>8.00</td>\n",
       "      <td>190.430862</td>\n",
       "    </tr>\n",
       "    <tr>\n",
       "      <th>...</th>\n",
       "      <td>...</td>\n",
       "      <td>...</td>\n",
       "    </tr>\n",
       "    <tr>\n",
       "      <th>122011</th>\n",
       "      <td>304.99</td>\n",
       "      <td>109.285538</td>\n",
       "    </tr>\n",
       "    <tr>\n",
       "      <th>122012</th>\n",
       "      <td>1010.90</td>\n",
       "      <td>242.726685</td>\n",
       "    </tr>\n",
       "    <tr>\n",
       "      <th>122013</th>\n",
       "      <td>1011.29</td>\n",
       "      <td>197.648148</td>\n",
       "    </tr>\n",
       "    <tr>\n",
       "      <th>122014</th>\n",
       "      <td>0.44</td>\n",
       "      <td>287.805176</td>\n",
       "    </tr>\n",
       "    <tr>\n",
       "      <th>122015</th>\n",
       "      <td>32.30</td>\n",
       "      <td>185.021179</td>\n",
       "    </tr>\n",
       "  </tbody>\n",
       "</table>\n",
       "<p>122016 rows × 2 columns</p>\n",
       "</div>"
      ],
      "text/plain": [
       "         Test Y  Model Predictions\n",
       "0         11.00          76.827423\n",
       "1          9.00          76.827423\n",
       "2         18.70         177.810440\n",
       "3          0.00         174.201797\n",
       "4          8.00         190.430862\n",
       "...         ...                ...\n",
       "122011   304.99         109.285538\n",
       "122012  1010.90         242.726685\n",
       "122013  1011.29         197.648148\n",
       "122014     0.44         287.805176\n",
       "122015    32.30         185.021179\n",
       "\n",
       "[122016 rows x 2 columns]"
      ]
     },
     "execution_count": 233,
     "metadata": {},
     "output_type": "execute_result"
    }
   ],
   "source": [
    "pred_df"
   ]
  },
  {
   "cell_type": "code",
   "execution_count": 234,
   "id": "da008574",
   "metadata": {},
   "outputs": [
    {
     "data": {
      "text/plain": [
       "<AxesSubplot:xlabel='Test Y', ylabel='Model Predictions'>"
      ]
     },
     "execution_count": 234,
     "metadata": {},
     "output_type": "execute_result"
    },
    {
     "data": {
      "image/png": "[encoded data removed]",
      "text/plain": [
       "<Figure size 640x480 with 1 Axes>"
      ]
     },
     "metadata": {},
     "output_type": "display_data"
    }
   ],
   "source": [
    "#A scatter plot of the model predictions against the true values. If we had a straight fitting line the model would have performed well.\n",
    "sns.scatterplot(x='Test Y',y='Model Predictions',data=pred_df)"
   ]
  },
  {
   "cell_type": "code",
   "execution_count": 235,
   "id": "73cd0408",
   "metadata": {
    "scrolled": true
   },
   "outputs": [
    {
     "name": "stderr",
     "output_type": "stream",
     "text": [
      "\n",
      "\n",
      "`distplot` is a deprecated function and will be removed in seaborn v0.14.0.\n",
      "\n",
      "Please adapt your code to use either `displot` (a figure-level function with\n",
      "similar flexibility) or `histplot` (an axes-level function for histograms).\n",
      "\n",
      "For a guide to updating your code to use the new functions, please see\n",
      "https://gist.github.com/mwaskom/de44147ed2974457ad6372750bbe5751\n",
      "\n"
     ]
    },
    {
     "data": {
      "text/plain": [
       "<AxesSubplot:xlabel='Error', ylabel='Density'>"
      ]
     },
     "execution_count": 235,
     "metadata": {},
     "output_type": "execute_result"
    },
    {
     "data": {
      "image/png": "[encoded data removed]",
      "text/plain": [
       "<Figure size 640x480 with 1 Axes>"
      ]
     },
     "metadata": {},
     "output_type": "display_data"
    }
   ],
   "source": [
    "# The model would have a good prediction if the plot was a Gaussian distribution with a peak at Error=0\n",
    "pred_df['Error'] = pred_df['Test Y'] - pred_df['Model Predictions']\n",
    "sns.distplot(pred_df['Error'],bins=50)"
   ]
  },
  {
   "cell_type": "code",
   "execution_count": 236,
   "id": "20199db7",
   "metadata": {},
   "outputs": [],
   "source": [
    "#Get the mean absolute error and the mean squared error\n",
    "from sklearn.metrics import mean_absolute_error,mean_squared_error"
   ]
  },
  {
   "cell_type": "code",
   "execution_count": 237,
   "id": "3c3c8c35",
   "metadata": {},
   "outputs": [
    {
     "data": {
      "text/plain": [
       "220.43882542389647"
      ]
     },
     "execution_count": 237,
     "metadata": {},
     "output_type": "execute_result"
    }
   ],
   "source": [
    "mean_absolute_error(pred_df['Test Y'],pred_df['Model Predictions'])"
   ]
  },
  {
   "cell_type": "code",
   "execution_count": 253,
   "id": "5615f710",
   "metadata": {},
   "outputs": [
    {
     "name": "stdout",
     "output_type": "stream",
     "text": [
      "          value\n",
      "mean  153.45302       value\n",
      "max  1021.9\n"
     ]
    }
   ],
   "source": [
    "#If one compares the mean absolute error with the mean value of the column value, it is evident that the error is big\n",
    "find_value=df.describe()\n",
    "print(find_value.loc[['mean'],['value']],find_value.loc[['max'],['value']])"
   ]
  },
  {
   "cell_type": "code",
   "execution_count": null,
   "id": "9253fda3",
   "metadata": {},
   "outputs": [],
   "source": [
    "#It was also calculated some blocks above at the test predictions\n",
    "mean_squared_error(pred_df['Test Y'],pred_df['Model Predictions'])"
   ]
  },
  {
   "cell_type": "code",
   "execution_count": 18,
   "id": "53fb2655",
   "metadata": {},
   "outputs": [],
   "source": [
    "#Now I do the same but I use:\n",
    "#Activation function:sigmoid, optimasation method: stochastic gradient descent , error function: mean absolute error"
   ]
  },
  {
   "cell_type": "code",
   "execution_count": 254,
   "id": "e7146e2b",
   "metadata": {},
   "outputs": [],
   "source": [
    "#The columns that I will use as numpy array\n",
    "X = df[['location_id','value_type_id']].values\n",
    "\n",
    "# Label that I am going to predict\n",
    "y = df['value'].values\n",
    "\n",
    "# Here I do the train and test Split:30% of the data is used for the test size\n",
    "X_train, X_test, y_train, y_test = train_test_split(X,y,test_size=0.3,random_state=42)"
   ]
  },
  {
   "cell_type": "code",
   "execution_count": 255,
   "id": "6b05ec02",
   "metadata": {},
   "outputs": [],
   "source": [
    "#Normalizing the data \n",
    "\n",
    "scaler = MinMaxScaler()\n",
    "scaler.fit(X_train)\n",
    "X_train = scaler.transform(X_train)\n",
    "X_test = scaler.transform(X_test)"
   ]
  },
  {
   "cell_type": "code",
   "execution_count": 256,
   "id": "22bcfea5",
   "metadata": {},
   "outputs": [],
   "source": [
    "#Set up a sequential model\n",
    "model = Sequential()\n",
    "#Add dense layers (densely connected nn) to the sequential model\n",
    "#units=4, 3, 2, 1 is the number of neurons on each layer\n",
    "model.add(Dense(units=4,activation='sigmoid'))\n",
    "model.add(Dense(units=4,activation='sigmoid'))\n",
    "model.add(Dense(units=3,activation='sigmoid'))\n",
    "model.add(Dense(units=2,activation='sigmoid'))\n",
    "model.add(Dense(units=1))\n",
    "\n"
   ]
  },
  {
   "cell_type": "code",
   "execution_count": 257,
   "id": "787dc2db",
   "metadata": {},
   "outputs": [
    {
     "name": "stdout",
     "output_type": "stream",
     "text": [
      "Epoch 1/100\n",
      "8897/8897 [==============================] - 16s 2ms/step - loss: 151.7781\n",
      "Epoch 2/100\n",
      "8897/8897 [==============================] - 16s 2ms/step - loss: 151.6135\n",
      "Epoch 3/100\n",
      "8897/8897 [==============================] - 16s 2ms/step - loss: 151.6127\n",
      "Epoch 4/100\n",
      "8897/8897 [==============================] - 16s 2ms/step - loss: 151.6132\n",
      "Epoch 5/100\n",
      "8897/8897 [==============================] - 16s 2ms/step - loss: 151.6133\n",
      "Epoch 6/100\n",
      "8897/8897 [==============================] - 16s 2ms/step - loss: 151.6131\n",
      "Epoch 7/100\n",
      "8897/8897 [==============================] - 17s 2ms/step - loss: 151.6135\n",
      "Epoch 8/100\n",
      "8897/8897 [==============================] - 17s 2ms/step - loss: 151.6135\n",
      "Epoch 9/100\n",
      "8897/8897 [==============================] - 17s 2ms/step - loss: 151.6131\n",
      "Epoch 10/100\n",
      "8897/8897 [==============================] - 18s 2ms/step - loss: 151.6131\n",
      "Epoch 11/100\n",
      "8897/8897 [==============================] - 18s 2ms/step - loss: 151.6131\n",
      "Epoch 12/100\n",
      "8897/8897 [==============================] - 18s 2ms/step - loss: 151.6133\n",
      "Epoch 13/100\n",
      "8897/8897 [==============================] - 17s 2ms/step - loss: 151.6132\n",
      "Epoch 14/100\n",
      "8897/8897 [==============================] - 18s 2ms/step - loss: 151.6131\n",
      "Epoch 15/100\n",
      "8897/8897 [==============================] - 20s 2ms/step - loss: 151.6131\n",
      "Epoch 16/100\n",
      "8897/8897 [==============================] - 17s 2ms/step - loss: 151.6129\n",
      "Epoch 17/100\n",
      "8897/8897 [==============================] - 19s 2ms/step - loss: 151.6134\n",
      "Epoch 18/100\n",
      "8897/8897 [==============================] - 18s 2ms/step - loss: 151.6132\n",
      "Epoch 19/100\n",
      "8897/8897 [==============================] - 18s 2ms/step - loss: 151.6128\n",
      "Epoch 20/100\n",
      "8897/8897 [==============================] - 19s 2ms/step - loss: 151.6134\n",
      "Epoch 21/100\n",
      "8897/8897 [==============================] - 22s 2ms/step - loss: 151.6133\n",
      "Epoch 22/100\n",
      "8897/8897 [==============================] - 19s 2ms/step - loss: 151.6133\n",
      "Epoch 23/100\n",
      "8897/8897 [==============================] - 18s 2ms/step - loss: 151.6133\n",
      "Epoch 24/100\n",
      "8897/8897 [==============================] - 18s 2ms/step - loss: 151.6132\n",
      "Epoch 25/100\n",
      "8897/8897 [==============================] - 18s 2ms/step - loss: 151.6134\n",
      "Epoch 26/100\n",
      "8897/8897 [==============================] - 18s 2ms/step - loss: 151.6133\n",
      "Epoch 27/100\n",
      "8897/8897 [==============================] - 19s 2ms/step - loss: 151.6125\n",
      "Epoch 28/100\n",
      "8897/8897 [==============================] - 17s 2ms/step - loss: 151.6131\n",
      "Epoch 29/100\n",
      "8897/8897 [==============================] - 17s 2ms/step - loss: 151.6131\n",
      "Epoch 30/100\n",
      "8897/8897 [==============================] - 17s 2ms/step - loss: 151.6130\n",
      "Epoch 31/100\n",
      "8897/8897 [==============================] - 17s 2ms/step - loss: 151.6128\n",
      "Epoch 32/100\n",
      "8897/8897 [==============================] - 17s 2ms/step - loss: 151.6133\n",
      "Epoch 33/100\n",
      "8897/8897 [==============================] - 17s 2ms/step - loss: 151.6129\n",
      "Epoch 34/100\n",
      "8897/8897 [==============================] - 17s 2ms/step - loss: 151.6130\n",
      "Epoch 35/100\n",
      "8897/8897 [==============================] - 17s 2ms/step - loss: 151.6132\n",
      "Epoch 36/100\n",
      "8897/8897 [==============================] - 17s 2ms/step - loss: 151.6131\n",
      "Epoch 37/100\n",
      "8897/8897 [==============================] - 17s 2ms/step - loss: 151.6132\n",
      "Epoch 38/100\n",
      "8897/8897 [==============================] - 17s 2ms/step - loss: 151.6132\n",
      "Epoch 39/100\n",
      "8897/8897 [==============================] - 17s 2ms/step - loss: 151.6127\n",
      "Epoch 40/100\n",
      "8897/8897 [==============================] - 17s 2ms/step - loss: 151.6126\n",
      "Epoch 41/100\n",
      "8897/8897 [==============================] - 17s 2ms/step - loss: 151.6126\n",
      "Epoch 42/100\n",
      "8897/8897 [==============================] - 17s 2ms/step - loss: 151.6131\n",
      "Epoch 43/100\n",
      "8897/8897 [==============================] - 17s 2ms/step - loss: 151.6124\n",
      "Epoch 44/100\n",
      "8897/8897 [==============================] - 17s 2ms/step - loss: 151.6128\n",
      "Epoch 45/100\n",
      "8897/8897 [==============================] - 17s 2ms/step - loss: 151.6127\n",
      "Epoch 46/100\n",
      "8897/8897 [==============================] - 17s 2ms/step - loss: 151.6126\n",
      "Epoch 47/100\n",
      "8897/8897 [==============================] - 17s 2ms/step - loss: 151.6129\n",
      "Epoch 48/100\n",
      "8897/8897 [==============================] - 16s 2ms/step - loss: 151.6125\n",
      "Epoch 49/100\n",
      "8897/8897 [==============================] - 19s 2ms/step - loss: 151.6120\n",
      "Epoch 50/100\n",
      "8897/8897 [==============================] - 17s 2ms/step - loss: 151.6117\n",
      "Epoch 51/100\n",
      "8897/8897 [==============================] - 17s 2ms/step - loss: 151.6117\n",
      "Epoch 52/100\n",
      "8897/8897 [==============================] - 17s 2ms/step - loss: 151.6109\n",
      "Epoch 53/100\n",
      "8897/8897 [==============================] - 16s 2ms/step - loss: 151.6100\n",
      "Epoch 54/100\n",
      "8897/8897 [==============================] - 17s 2ms/step - loss: 151.6088\n",
      "Epoch 55/100\n",
      "8897/8897 [==============================] - 17s 2ms/step - loss: 151.6054\n",
      "Epoch 56/100\n",
      "8897/8897 [==============================] - 17s 2ms/step - loss: 151.5960\n",
      "Epoch 57/100\n",
      "8897/8897 [==============================] - 16s 2ms/step - loss: 151.5594\n",
      "Epoch 58/100\n",
      "8897/8897 [==============================] - 16s 2ms/step - loss: 151.4367\n",
      "Epoch 59/100\n",
      "8897/8897 [==============================] - 16s 2ms/step - loss: 151.1460\n",
      "Epoch 60/100\n",
      "8897/8897 [==============================] - 17s 2ms/step - loss: 150.9426\n",
      "Epoch 61/100\n",
      "8897/8897 [==============================] - 16s 2ms/step - loss: 150.8529\n",
      "Epoch 62/100\n",
      "8897/8897 [==============================] - 16s 2ms/step - loss: 150.7940\n",
      "Epoch 63/100\n",
      "8897/8897 [==============================] - 16s 2ms/step - loss: 150.7666\n",
      "Epoch 64/100\n",
      "8897/8897 [==============================] - 16s 2ms/step - loss: 150.7382\n",
      "Epoch 65/100\n",
      "8897/8897 [==============================] - 15s 2ms/step - loss: 150.7113\n",
      "Epoch 66/100\n",
      "8897/8897 [==============================] - 15s 2ms/step - loss: 150.6939\n",
      "Epoch 67/100\n",
      "8897/8897 [==============================] - 15s 2ms/step - loss: 150.6843\n",
      "Epoch 68/100\n",
      "8897/8897 [==============================] - 16s 2ms/step - loss: 150.6783\n",
      "Epoch 69/100\n",
      "8897/8897 [==============================] - 16s 2ms/step - loss: 150.6750\n",
      "Epoch 70/100\n",
      "8897/8897 [==============================] - 15s 2ms/step - loss: 150.6727\n",
      "Epoch 71/100\n",
      "8897/8897 [==============================] - 15s 2ms/step - loss: 150.6711\n",
      "Epoch 72/100\n",
      "8897/8897 [==============================] - 15s 2ms/step - loss: 150.6703\n",
      "Epoch 73/100\n",
      "8897/8897 [==============================] - 15s 2ms/step - loss: 150.6697\n",
      "Epoch 74/100\n",
      "8897/8897 [==============================] - 15s 2ms/step - loss: 150.6691\n",
      "Epoch 75/100\n",
      "8897/8897 [==============================] - 15s 2ms/step - loss: 150.6692\n",
      "Epoch 76/100\n",
      "8897/8897 [==============================] - 15s 2ms/step - loss: 150.6680\n",
      "Epoch 77/100\n",
      "8897/8897 [==============================] - 15s 2ms/step - loss: 150.6683\n",
      "Epoch 78/100\n",
      "8897/8897 [==============================] - 15s 2ms/step - loss: 150.6684\n",
      "Epoch 79/100\n",
      "8897/8897 [==============================] - 15s 2ms/step - loss: 150.6677\n",
      "Epoch 80/100\n",
      "8897/8897 [==============================] - 15s 2ms/step - loss: 150.6672\n",
      "Epoch 81/100\n",
      "8897/8897 [==============================] - 15s 2ms/step - loss: 150.6669\n",
      "Epoch 82/100\n",
      "8897/8897 [==============================] - 15s 2ms/step - loss: 150.6669\n",
      "Epoch 83/100\n",
      "8897/8897 [==============================] - 15s 2ms/step - loss: 150.6673\n",
      "Epoch 84/100\n",
      "8897/8897 [==============================] - 15s 2ms/step - loss: 150.6671\n",
      "Epoch 85/100\n",
      "8897/8897 [==============================] - 15s 2ms/step - loss: 150.6672\n",
      "Epoch 86/100\n",
      "8897/8897 [==============================] - 15s 2ms/step - loss: 150.6667\n",
      "Epoch 87/100\n",
      "8897/8897 [==============================] - 15s 2ms/step - loss: 150.6666\n",
      "Epoch 88/100\n",
      "8897/8897 [==============================] - 15s 2ms/step - loss: 150.6667\n",
      "Epoch 89/100\n",
      "8897/8897 [==============================] - 15s 2ms/step - loss: 150.6668\n",
      "Epoch 90/100\n",
      "8897/8897 [==============================] - 15s 2ms/step - loss: 150.6665\n",
      "Epoch 91/100\n",
      "8897/8897 [==============================] - 15s 2ms/step - loss: 150.6667\n",
      "Epoch 92/100\n",
      "8897/8897 [==============================] - 15s 2ms/step - loss: 150.6664\n",
      "Epoch 93/100\n",
      "8897/8897 [==============================] - 15s 2ms/step - loss: 150.6666\n",
      "Epoch 94/100\n",
      "8897/8897 [==============================] - 15s 2ms/step - loss: 150.6668\n",
      "Epoch 95/100\n",
      "8897/8897 [==============================] - 19s 2ms/step - loss: 150.6668\n",
      "Epoch 96/100\n",
      "8897/8897 [==============================] - 15s 2ms/step - loss: 150.6663\n",
      "Epoch 97/100\n",
      "8897/8897 [==============================] - 15s 2ms/step - loss: 150.6665\n",
      "Epoch 98/100\n",
      "8897/8897 [==============================] - 15s 2ms/step - loss: 150.6667\n",
      "Epoch 99/100\n",
      "8897/8897 [==============================] - 15s 2ms/step - loss: 150.6662\n",
      "Epoch 100/100\n",
      "8897/8897 [==============================] - 16s 2ms/step - loss: 150.6668\n"
     ]
    },
    {
     "data": {
      "text/plain": [
       "<keras.callbacks.History at 0x1db190363d0>"
      ]
     },
     "execution_count": 257,
     "metadata": {},
     "output_type": "execute_result"
    }
   ],
   "source": [
    "#Compile the model\n",
    "model.compile(optimizer='sgd',loss='mae')\n",
    "#Fit the model: One epoch is one pass over the entire data set. Here we use 100 epochs\n",
    "model.fit(X_train,y_train,epochs=100)"
   ]
  },
  {
   "cell_type": "code",
   "execution_count": 258,
   "id": "498d1116",
   "metadata": {},
   "outputs": [
    {
     "name": "stdout",
     "output_type": "stream",
     "text": [
      "3813/3813 [==============================] - 5s 1ms/step\n"
     ]
    }
   ],
   "source": [
    "#values predicted (numpy array)\n",
    "test_predictions = model.predict(X_test)\n",
    "# I turn the predicted values into series in order to use them in a dataframe\n",
    "test_predictions = pd.Series(test_predictions.reshape(X_test.shape[0],))\n",
    "# The true values dataframe\n",
    "pred_df = pd.DataFrame(y_test,columns=['Test Y'])"
   ]
  },
  {
   "cell_type": "code",
   "execution_count": 259,
   "id": "7ad480d5",
   "metadata": {},
   "outputs": [],
   "source": [
    "#I make a dataframe that combines the above pred_df with the predicted values\n",
    "pred_df = pd.concat([pred_df,test_predictions],axis=1)\n",
    "pred_df.columns = ['Test Y','Model Predictions']"
   ]
  },
  {
   "cell_type": "code",
   "execution_count": 260,
   "id": "7ba229a5",
   "metadata": {},
   "outputs": [
    {
     "data": {
      "text/plain": [
       "<AxesSubplot:xlabel='Test Y', ylabel='Model Predictions'>"
      ]
     },
     "execution_count": 260,
     "metadata": {},
     "output_type": "execute_result"
    },
    {
     "data": {
      "image/png": "[encoded data removed]",
      "text/plain": [
       "<Figure size 640x480 with 1 Axes>"
      ]
     },
     "metadata": {},
     "output_type": "display_data"
    }
   ],
   "source": [
    "#A scatter plot of the model predictions against the true values. If we had a straight fitting line the model would have performed well.\n",
    "sns.scatterplot(x='Test Y',y='Model Predictions',data=pred_df, color='crimson')"
   ]
  },
  {
   "cell_type": "code",
   "execution_count": 261,
   "id": "ffa84a9c",
   "metadata": {},
   "outputs": [
    {
     "name": "stderr",
     "output_type": "stream",
     "text": [
      "\n",
      "\n",
      "`distplot` is a deprecated function and will be removed in seaborn v0.14.0.\n",
      "\n",
      "Please adapt your code to use either `displot` (a figure-level function with\n",
      "similar flexibility) or `histplot` (an axes-level function for histograms).\n",
      "\n",
      "For a guide to updating your code to use the new functions, please see\n",
      "https://gist.github.com/mwaskom/de44147ed2974457ad6372750bbe5751\n",
      "\n"
     ]
    },
    {
     "data": {
      "text/plain": [
       "<AxesSubplot:xlabel='Error', ylabel='Density'>"
      ]
     },
     "execution_count": 261,
     "metadata": {},
     "output_type": "execute_result"
    },
    {
     "data": {
      "image/png": "[encoded data removed]",
      "text/plain": [
       "<Figure size 640x480 with 1 Axes>"
      ]
     },
     "metadata": {},
     "output_type": "display_data"
    }
   ],
   "source": [
    "# The model would have a good prediction if the plot  was a Gaussian distribution with a peak at Error=0\n",
    "pred_df['Error'] = pred_df['Test Y'] - pred_df['Model Predictions']\n",
    "sns.distplot(pred_df['Error'],bins=50,color='r')"
   ]
  },
  {
   "cell_type": "code",
   "execution_count": 262,
   "id": "01947eef",
   "metadata": {},
   "outputs": [],
   "source": [
    "#Get the mean absolute error and the mean squared error\n"
   ]
  },
  {
   "cell_type": "code",
   "execution_count": 263,
   "id": "fe2148aa",
   "metadata": {},
   "outputs": [
    {
     "data": {
      "text/plain": [
       "149.6466939230707"
      ]
     },
     "execution_count": 263,
     "metadata": {},
     "output_type": "execute_result"
    }
   ],
   "source": [
    "mean_absolute_error(pred_df['Test Y'],pred_df['Model Predictions'])"
   ]
  },
  {
   "cell_type": "code",
   "execution_count": 264,
   "id": "5553b3bd",
   "metadata": {},
   "outputs": [
    {
     "data": {
      "text/plain": [
       "120691.44931354342"
      ]
     },
     "execution_count": 264,
     "metadata": {},
     "output_type": "execute_result"
    }
   ],
   "source": [
    "mean_squared_error(pred_df['Test Y'],pred_df['Model Predictions'])"
   ]
  },
  {
   "cell_type": "code",
   "execution_count": null,
   "id": "4a15a3e1",
   "metadata": {},
   "outputs": [],
   "source": [
    "#It seems that the second test, where we used the sigmoid application function and  sgd as an optimizer, gives better results"
   ]
  },
  {
   "cell_type": "code",
   "execution_count": 4,
   "id": "1a081de4",
   "metadata": {},
   "outputs": [],
   "source": [
    "###PART THREE (please run PART ONE first)"
   ]
  },
  {
   "cell_type": "code",
   "execution_count": 149,
   "id": "d0225f99",
   "metadata": {},
   "outputs": [],
   "source": [
    "import shap\n",
    "#In this part I use the shapley values technic in order to check  which features affect our model decisions and how they contribute to global predictions"
   ]
  },
  {
   "cell_type": "code",
   "execution_count": 217,
   "id": "efecdc71",
   "metadata": {},
   "outputs": [
    {
     "name": "stdout",
     "output_type": "stream",
     "text": [
      "identifier      -0.174804\n",
      "day             -0.012796\n",
      "minute          -0.009579\n",
      "hour            -0.006169\n",
      "location_id      0.010312\n",
      "source_id        0.015135\n",
      "id               0.018221\n",
      "month            0.021303\n",
      "value_type_id    0.191069\n",
      "value            1.000000\n",
      "Name: value, dtype: float64\n"
     ]
    },
    {
     "data": {
      "text/plain": [
       "<AxesSubplot:>"
      ]
     },
     "execution_count": 217,
     "metadata": {},
     "output_type": "execute_result"
    },
    {
     "data": {
      "image/png": "[encoded data removed]",
      "text/plain": [
       "<Figure size 640x480 with 1 Axes>"
      ]
     },
     "metadata": {},
     "output_type": "display_data"
    }
   ],
   "source": [
    "#Before doing this I check the colleration of 'value' with the rest features\n",
    "df.drop('year',axis=1)\n",
    "print(df.corr()['value'].sort_values().dropna())\n",
    "df.corr()['value'].sort_values().dropna().plot(kind='bar')"
   ]
  },
  {
   "cell_type": "code",
   "execution_count": null,
   "id": "d9c1d5b9",
   "metadata": {},
   "outputs": [],
   "source": [
    "#It seems that value_type_id has the closest positive correlation with value and identifier the closest negative"
   ]
  },
  {
   "cell_type": "code",
   "execution_count": 214,
   "id": "faada060",
   "metadata": {},
   "outputs": [],
   "source": [
    "#I will use trees ensemble model to look at feature importance and compare it with SHAP feature importance.\n",
    "#The columns that I will use \n",
    "X = df[['location_id','value_type_id','source_id','month','day','identifier']]\n",
    "\n",
    "# Label that I am going to predict\n",
    "y = df['value'].values\n",
    "\n",
    "# Here I do the train and test Split:30% of the data is used for the test size\n",
    "X_train, X_test, y_train, y_test = train_test_split(X, y, test_size = 0.3, random_state = 100)"
   ]
  },
  {
   "cell_type": "code",
   "execution_count": 138,
   "id": "8b6f670a",
   "metadata": {},
   "outputs": [
    {
     "data": {
      "text/html": [
       "<style>#sk-container-id-3 {color: black;background-color: white;}#sk-container-id-3 pre{padding: 0;}#sk-container-id-3 div.sk-toggleable {background-color: white;}#sk-container-id-3 label.sk-toggleable__label {cursor: pointer;display: block;width: 100%;margin-bottom: 0;padding: 0.3em;box-sizing: border-box;text-align: center;}#sk-container-id-3 label.sk-toggleable__label-arrow:before {content: \"▸\";float: left;margin-right: 0.25em;color: #696969;}#sk-container-id-3 label.sk-toggleable__label-arrow:hover:before {color: black;}#sk-container-id-3 div.sk-estimator:hover label.sk-toggleable__label-arrow:before {color: black;}#sk-container-id-3 div.sk-toggleable__content {max-height: 0;max-width: 0;overflow: hidden;text-align: left;background-color: #f0f8ff;}#sk-container-id-3 div.sk-toggleable__content pre {margin: 0.2em;color: black;border-radius: 0.25em;background-color: #f0f8ff;}#sk-container-id-3 input.sk-toggleable__control:checked~div.sk-toggleable__content {max-height: 200px;max-width: 100%;overflow: auto;}#sk-container-id-3 input.sk-toggleable__control:checked~label.sk-toggleable__label-arrow:before {content: \"▾\";}#sk-container-id-3 div.sk-estimator input.sk-toggleable__control:checked~label.sk-toggleable__label {background-color: #d4ebff;}#sk-container-id-3 div.sk-label input.sk-toggleable__control:checked~label.sk-toggleable__label {background-color: #d4ebff;}#sk-container-id-3 input.sk-hidden--visually {border: 0;clip: rect(1px 1px 1px 1px);clip: rect(1px, 1px, 1px, 1px);height: 1px;margin: -1px;overflow: hidden;padding: 0;position: absolute;width: 1px;}#sk-container-id-3 div.sk-estimator {font-family: monospace;background-color: #f0f8ff;border: 1px dotted black;border-radius: 0.25em;box-sizing: border-box;margin-bottom: 0.5em;}#sk-container-id-3 div.sk-estimator:hover {background-color: #d4ebff;}#sk-container-id-3 div.sk-parallel-item::after {content: \"\";width: 100%;border-bottom: 1px solid gray;flex-grow: 1;}#sk-container-id-3 div.sk-label:hover label.sk-toggleable__label {background-color: #d4ebff;}#sk-container-id-3 div.sk-serial::before {content: \"\";position: absolute;border-left: 1px solid gray;box-sizing: border-box;top: 0;bottom: 0;left: 50%;z-index: 0;}#sk-container-id-3 div.sk-serial {display: flex;flex-direction: column;align-items: center;background-color: white;padding-right: 0.2em;padding-left: 0.2em;position: relative;}#sk-container-id-3 div.sk-item {position: relative;z-index: 1;}#sk-container-id-3 div.sk-parallel {display: flex;align-items: stretch;justify-content: center;background-color: white;position: relative;}#sk-container-id-3 div.sk-item::before, #sk-container-id-3 div.sk-parallel-item::before {content: \"\";position: absolute;border-left: 1px solid gray;box-sizing: border-box;top: 0;bottom: 0;left: 50%;z-index: -1;}#sk-container-id-3 div.sk-parallel-item {display: flex;flex-direction: column;z-index: 1;position: relative;background-color: white;}#sk-container-id-3 div.sk-parallel-item:first-child::after {align-self: flex-end;width: 50%;}#sk-container-id-3 div.sk-parallel-item:last-child::after {align-self: flex-start;width: 50%;}#sk-container-id-3 div.sk-parallel-item:only-child::after {width: 0;}#sk-container-id-3 div.sk-dashed-wrapped {border: 1px dashed gray;margin: 0 0.4em 0.5em 0.4em;box-sizing: border-box;padding-bottom: 0.4em;background-color: white;}#sk-container-id-3 div.sk-label label {font-family: monospace;font-weight: bold;display: inline-block;line-height: 1.2em;}#sk-container-id-3 div.sk-label-container {text-align: center;}#sk-container-id-3 div.sk-container {/* jupyter's `normalize.less` sets `[hidden] { display: none; }` but bootstrap.min.css set `[hidden] { display: none !important; }` so we also need the `!important` here to be able to override the default hidden behavior on the sphinx rendered scikit-learn.org. See: https://github.com/scikit-learn/scikit-learn/issues/21755 */display: inline-block !important;position: relative;}#sk-container-id-3 div.sk-text-repr-fallback {display: none;}</style><div id=\"sk-container-id-3\" class=\"sk-top-container\"><div class=\"sk-text-repr-fallback\"><pre>RandomForestRegressor(max_depth=6, n_estimators=10, random_state=0)</pre><b>In a Jupyter environment, please rerun this cell to show the HTML representation or trust the notebook. <br />On GitHub, the HTML representation is unable to render, please try loading this page with nbviewer.org.</b></div><div class=\"sk-container\" hidden><div class=\"sk-item\"><div class=\"sk-estimator sk-toggleable\"><input class=\"sk-toggleable__control sk-hidden--visually\" id=\"sk-estimator-id-3\" type=\"checkbox\" checked><label for=\"sk-estimator-id-3\" class=\"sk-toggleable__label sk-toggleable__label-arrow\">RandomForestRegressor</label><div class=\"sk-toggleable__content\"><pre>RandomForestRegressor(max_depth=6, n_estimators=10, random_state=0)</pre></div></div></div></div></div>"
      ],
      "text/plain": [
       "RandomForestRegressor(max_depth=6, n_estimators=10, random_state=0)"
      ]
     },
     "execution_count": 138,
     "metadata": {},
     "output_type": "execute_result"
    }
   ],
   "source": [
    "#I will build the model with Random Forest Classifier :\n",
    "from sklearn.ensemble import RandomForestRegressor\n",
    "model = RandomForestRegressor(max_depth=6, random_state=0, n_estimators=10)\n",
    "model.fit(X_train, y_train)"
   ]
  },
  {
   "cell_type": "code",
   "execution_count": 139,
   "id": "37485c90",
   "metadata": {},
   "outputs": [],
   "source": [
    "y_pred = model.predict(X_test)"
   ]
  },
  {
   "cell_type": "code",
   "execution_count": 140,
   "id": "b32c0e92",
   "metadata": {},
   "outputs": [
    {
     "data": {
      "text/plain": [
       "42.41417778233642"
      ]
     },
     "execution_count": 140,
     "metadata": {},
     "output_type": "execute_result"
    }
   ],
   "source": [
    "#the mean square error of the model\n",
    "mse = mean_squared_error(y_test, y_pred)**(0.5)\n",
    "mse"
   ]
  },
  {
   "cell_type": "code",
   "execution_count": 220,
   "id": "84b2f410",
   "metadata": {},
   "outputs": [
    {
     "name": "stdout",
     "output_type": "stream",
     "text": [
      "Expected Value: [152.78495897]\n"
     ]
    }
   ],
   "source": [
    "#Here I create the shap values\n",
    "#The shap_values are  the average contribution of each feature to each prediction for each sample based on all possible features\n",
    "explainer = shap.TreeExplainer(model)\n",
    "shap_values = explainer.shap_values(X_train)\n",
    "print('Expected Value:', explainer.expected_value)"
   ]
  },
  {
   "cell_type": "code",
   "execution_count": 142,
   "id": "954dce9a",
   "metadata": {},
   "outputs": [
    {
     "data": {
      "image/png": "[encoded data removed]",
      "text/plain": [
       "<Figure size 800x390 with 1 Axes>"
      ]
     },
     "metadata": {},
     "output_type": "display_data"
    }
   ],
   "source": [
    "#Here is a summary plot which gives a global picture and shows how each feature impacts the model.\n",
    "shap_values = shap.TreeExplainer(model).shap_values(X_train)\n",
    "shap.summary_plot(shap_values, X_train, plot_type=\"bar\",color='lightgreen')\n"
   ]
  },
  {
   "cell_type": "code",
   "execution_count": null,
   "id": "5e4f81a7",
   "metadata": {},
   "outputs": [],
   "source": []
  }
 ],
 "metadata": {
  "kernelspec": {
   "display_name": "Python 3 (ipykernel)",
   "language": "python",
   "name": "python3"
  },
  "language_info": {
   "codemirror_mode": {
    "name": "ipython",
    "version": 3
   },
   "file_extension": ".py",
   "mimetype": "text/x-python",
   "name": "python",
   "nbconvert_exporter": "python",
   "pygments_lexer": "ipython3",
   "version": "3.9.13"
  }
 },
 "nbformat": 4,
 "nbformat_minor": 5
}
